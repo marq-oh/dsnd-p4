{
 "cells": [
  {
   "cell_type": "markdown",
   "metadata": {},
   "source": [
    "# Sparkify Project Workspace\n",
    "This workspace contains a tiny subset (128MB) of the full dataset available (12GB). Feel free to use this workspace to build your project, or to explore a smaller subset with Spark before deploying your cluster on the cloud. Instructions for setting up your Spark cluster is included in the last lesson of the Extracurricular Spark Course content.\n",
    "\n",
    "You can follow the steps below to guide your data analysis and model building portion of this project."
   ]
  },
  {
   "cell_type": "code",
   "execution_count": 127,
   "metadata": {},
   "outputs": [
    {
     "data": {
      "text/plain": [
       "'C:\\\\spark\\\\spark-2.4.5-bin-hadoop2.7'"
      ]
     },
     "execution_count": 127,
     "metadata": {},
     "output_type": "execute_result"
    }
   ],
   "source": [
    "# import libraries\n",
    "import findspark\n",
    "findspark.init()\n",
    "findspark.find()\n",
    "\n",
    "import pyspark\n",
    "findspark.find()"
   ]
  },
  {
   "cell_type": "code",
   "execution_count": 128,
   "metadata": {},
   "outputs": [],
   "source": [
    "# create a Spark session\n",
    "from pyspark.sql import SparkSession\n",
    "spark = SparkSession.builder.appName('Sparkify').getOrCreate()"
   ]
  },
  {
   "cell_type": "code",
   "execution_count": 129,
   "metadata": {},
   "outputs": [],
   "source": [
    "# functions to import\n",
    "from pyspark.sql.functions import count, udf\n",
    "import pyspark.sql.functions as func\n",
    "import datetime\n",
    "from time import time"
   ]
  },
  {
   "cell_type": "markdown",
   "metadata": {},
   "source": [
    "# Load and Clean Dataset\n",
    "In this workspace, the mini-dataset file is `mini_sparkify_event_data.json`. Load and clean the dataset, checking for invalid or missing data - for example, records without userids or sessionids. "
   ]
  },
  {
   "cell_type": "code",
   "execution_count": 130,
   "metadata": {},
   "outputs": [],
   "source": [
    "# Read in data\n",
    "df = spark.read.json('medium-sparkify-event-data.json')"
   ]
  },
  {
   "cell_type": "code",
   "execution_count": 131,
   "metadata": {},
   "outputs": [
    {
     "data": {
      "text/plain": [
       "[Row(artist='Martin Orford', auth='Logged In', firstName='Joseph', gender='M', itemInSession=20, lastName='Morales', length=597.55057, level='free', location='Corpus Christi, TX', method='PUT', page='NextSong', registration=1532063507000, sessionId=292, song='Grand Designs', status=200, ts=1538352011000, userAgent='\"Mozilla/5.0 (Macintosh; Intel Mac OS X 10_9_4) AppleWebKit/537.36 (KHTML, like Gecko) Chrome/36.0.1985.125 Safari/537.36\"', userId='293'),\n",
       " Row(artist=\"John Brown's Body\", auth='Logged In', firstName='Sawyer', gender='M', itemInSession=74, lastName='Larson', length=380.21179, level='free', location='Houston-The Woodlands-Sugar Land, TX', method='PUT', page='NextSong', registration=1538069638000, sessionId=97, song='Bulls', status=200, ts=1538352025000, userAgent='\"Mozilla/5.0 (Macintosh; Intel Mac OS X 10_9_4) AppleWebKit/537.36 (KHTML, like Gecko) Chrome/36.0.1985.143 Safari/537.36\"', userId='98')]"
      ]
     },
     "execution_count": 131,
     "metadata": {},
     "output_type": "execute_result"
    }
   ],
   "source": [
    "df.head(2)"
   ]
  },
  {
   "cell_type": "code",
   "execution_count": 132,
   "metadata": {},
   "outputs": [
    {
     "name": "stdout",
     "output_type": "stream",
     "text": [
      "root\n",
      " |-- artist: string (nullable = true)\n",
      " |-- auth: string (nullable = true)\n",
      " |-- firstName: string (nullable = true)\n",
      " |-- gender: string (nullable = true)\n",
      " |-- itemInSession: long (nullable = true)\n",
      " |-- lastName: string (nullable = true)\n",
      " |-- length: double (nullable = true)\n",
      " |-- level: string (nullable = true)\n",
      " |-- location: string (nullable = true)\n",
      " |-- method: string (nullable = true)\n",
      " |-- page: string (nullable = true)\n",
      " |-- registration: long (nullable = true)\n",
      " |-- sessionId: long (nullable = true)\n",
      " |-- song: string (nullable = true)\n",
      " |-- status: long (nullable = true)\n",
      " |-- ts: long (nullable = true)\n",
      " |-- userAgent: string (nullable = true)\n",
      " |-- userId: string (nullable = true)\n",
      "\n"
     ]
    }
   ],
   "source": [
    "# This is not necessarily the schema we want\n",
    "# For e.g. 'long' data types may make some things hard\n",
    "df.printSchema()"
   ]
  },
  {
   "cell_type": "code",
   "execution_count": 133,
   "metadata": {},
   "outputs": [
    {
     "data": {
      "text/plain": [
       "[Row(artist='Martin Orford', auth='Logged In', firstName='Joseph', gender='M', itemInSession=20, lastName='Morales', length=597.55057, level='free', location='Corpus Christi, TX', method='PUT', page='NextSong', registration=1532063507000, sessionId=292, song='Grand Designs', status=200, ts=1538352011000, userAgent='\"Mozilla/5.0 (Macintosh; Intel Mac OS X 10_9_4) AppleWebKit/537.36 (KHTML, like Gecko) Chrome/36.0.1985.125 Safari/537.36\"', userId='293'),\n",
       " Row(artist=\"John Brown's Body\", auth='Logged In', firstName='Sawyer', gender='M', itemInSession=74, lastName='Larson', length=380.21179, level='free', location='Houston-The Woodlands-Sugar Land, TX', method='PUT', page='NextSong', registration=1538069638000, sessionId=97, song='Bulls', status=200, ts=1538352025000, userAgent='\"Mozilla/5.0 (Macintosh; Intel Mac OS X 10_9_4) AppleWebKit/537.36 (KHTML, like Gecko) Chrome/36.0.1985.143 Safari/537.36\"', userId='98')]"
      ]
     },
     "execution_count": 133,
     "metadata": {},
     "output_type": "execute_result"
    }
   ],
   "source": [
    "df.head(2)"
   ]
  },
  {
   "cell_type": "code",
   "execution_count": 134,
   "metadata": {},
   "outputs": [
    {
     "data": {
      "text/plain": [
       "543705"
      ]
     },
     "execution_count": 134,
     "metadata": {},
     "output_type": "execute_result"
    }
   ],
   "source": [
    "df.count()"
   ]
  },
  {
   "cell_type": "code",
   "execution_count": 135,
   "metadata": {
    "scrolled": true
   },
   "outputs": [
    {
     "name": "stdout",
     "output_type": "stream",
     "text": [
      "+-------+-----------------+---------+------+--------+-----------------+----------------+\n",
      "|summary|           artist|firstName|gender|lastName|           length|        location|\n",
      "+-------+-----------------+---------+------+--------+-----------------+----------------+\n",
      "|  count|           432877|   528005|528005|  528005|           432877|          528005|\n",
      "|   mean|527.5289537712895|     null|  null|    null|248.6645927800741|            null|\n",
      "| stddev|966.1072451772757|     null|  null|    null|98.41266955052022|            null|\n",
      "|    min|              !!!|  Aaliyah|     F|  Abbott|          0.78322|       Akron, OH|\n",
      "|    max|ÃÂlafur Arnalds|   Zyonna|     M|  Wright|       3024.66567|York-Hanover, PA|\n",
      "+-------+-----------------+---------+------+--------+-----------------+----------------+\n",
      "\n"
     ]
    }
   ],
   "source": [
    "# if count != 286500, this may mean that these columns having missing values\n",
    "df.describe(['artist','firstName','gender','lastName','length','location']).show()"
   ]
  },
  {
   "cell_type": "code",
   "execution_count": 136,
   "metadata": {},
   "outputs": [
    {
     "name": "stdout",
     "output_type": "stream",
     "text": [
      "+-------+--------------------+--------------------+--------------------+------------------+\n",
      "|summary|        registration|                song|           userAgent|            userID|\n",
      "+-------+--------------------+--------------------+--------------------+------------------+\n",
      "|  count|              528005|              432877|              528005|            543705|\n",
      "|   mean|1.535523414863953...|            Infinity|                null| 60268.42669103512|\n",
      "| stddev|3.0787254929962535E9|                 NaN|                null|109898.82324176558|\n",
      "|    min|       1509854193000|\u001c",
      "ÃÂg ÃÂtti Gr...|\"Mozilla/5.0 (Mac...|                  |\n",
      "|    max|       1543073874000|ÃÂ¾etta Gerist Ã...|Mozilla/5.0 (comp...|                99|\n",
      "+-------+--------------------+--------------------+--------------------+------------------+\n",
      "\n"
     ]
    }
   ],
   "source": [
    "# if count != 286500, this may mean that these columns having missing values\n",
    "df.describe(['registration','song','userAgent','userID']).show()"
   ]
  },
  {
   "cell_type": "code",
   "execution_count": 137,
   "metadata": {},
   "outputs": [
    {
     "name": "stdout",
     "output_type": "stream",
     "text": [
      "+-------+------------------+------------------+\n",
      "|summary|            userID|         sessionID|\n",
      "+-------+------------------+------------------+\n",
      "|  count|            543705|            543705|\n",
      "|   mean| 60268.42669103512|2040.8143533717732|\n",
      "| stddev|109898.82324176558|1434.3389310782666|\n",
      "|    min|                  |                 1|\n",
      "|    max|                99|              4808|\n",
      "+-------+------------------+------------------+\n",
      "\n"
     ]
    }
   ],
   "source": [
    "'''\n",
    "It appears that UserID and SessionID don't have missing values\n",
    "But why is the 'min' of userID = 'blank'\n",
    "\n",
    "''' \n",
    "df.describe(['userID','sessionID']).show()"
   ]
  },
  {
   "cell_type": "code",
   "execution_count": 138,
   "metadata": {},
   "outputs": [
    {
     "data": {
      "text/plain": [
       "15700"
      ]
     },
     "execution_count": 138,
     "metadata": {},
     "output_type": "execute_result"
    }
   ],
   "source": [
    "# Check count of records where userID is blank\n",
    "df.filter(\"userID == ''\").count()"
   ]
  },
  {
   "cell_type": "code",
   "execution_count": 139,
   "metadata": {},
   "outputs": [
    {
     "data": {
      "text/plain": [
       "0"
      ]
     },
     "execution_count": 139,
     "metadata": {},
     "output_type": "execute_result"
    }
   ],
   "source": [
    "# Check count of records where userID is blank\n",
    "df.filter(\"sessionID == ''\").count()"
   ]
  },
  {
   "cell_type": "code",
   "execution_count": 140,
   "metadata": {},
   "outputs": [],
   "source": [
    "# Only keep rows that have userID\n",
    "df = df.where(\"userID != ''\")"
   ]
  },
  {
   "cell_type": "code",
   "execution_count": 141,
   "metadata": {},
   "outputs": [
    {
     "data": {
      "text/plain": [
       "528005"
      ]
     },
     "execution_count": 141,
     "metadata": {},
     "output_type": "execute_result"
    }
   ],
   "source": [
    "df.count()"
   ]
  },
  {
   "cell_type": "code",
   "execution_count": 142,
   "metadata": {},
   "outputs": [],
   "source": [
    "'''\n",
    "Convert fields with timestamps to Date and Timestamp\n",
    "'''\n",
    "convert_ts = udf(lambda x: datetime.datetime.fromtimestamp(x / 1000.0).strftime(\"%Y-%m-%d %H:%M:%S\"))\n",
    "df = df.withColumn('event_time', convert_ts('ts'))\n",
    "df = df.withColumn('registration_time', convert_ts('registration'))"
   ]
  },
  {
   "cell_type": "code",
   "execution_count": 143,
   "metadata": {
    "scrolled": true
   },
   "outputs": [
    {
     "data": {
      "text/plain": [
       "[Row(artist='Martin Orford', auth='Logged In', firstName='Joseph', gender='M', itemInSession=20, lastName='Morales', length=597.55057, level='free', location='Corpus Christi, TX', method='PUT', page='NextSong', registration=1532063507000, sessionId=292, song='Grand Designs', status=200, ts=1538352011000, userAgent='\"Mozilla/5.0 (Macintosh; Intel Mac OS X 10_9_4) AppleWebKit/537.36 (KHTML, like Gecko) Chrome/36.0.1985.125 Safari/537.36\"', userId='293', event_time='2018-09-30 17:00:11', registration_time='2018-07-19 22:11:47'),\n",
       " Row(artist=\"John Brown's Body\", auth='Logged In', firstName='Sawyer', gender='M', itemInSession=74, lastName='Larson', length=380.21179, level='free', location='Houston-The Woodlands-Sugar Land, TX', method='PUT', page='NextSong', registration=1538069638000, sessionId=97, song='Bulls', status=200, ts=1538352025000, userAgent='\"Mozilla/5.0 (Macintosh; Intel Mac OS X 10_9_4) AppleWebKit/537.36 (KHTML, like Gecko) Chrome/36.0.1985.143 Safari/537.36\"', userId='98', event_time='2018-09-30 17:00:25', registration_time='2018-09-27 10:33:58'),\n",
       " Row(artist='Afroman', auth='Logged In', firstName='Maverick', gender='M', itemInSession=184, lastName='Santiago', length=202.37016, level='paid', location='Orlando-Kissimmee-Sanford, FL', method='PUT', page='NextSong', registration=1535953455000, sessionId=178, song='Because I Got High', status=200, ts=1538352118000, userAgent='\"Mozilla/5.0 (Macintosh; Intel Mac OS X 10_9_4) AppleWebKit/537.36 (KHTML, like Gecko) Chrome/36.0.1985.143 Safari/537.36\"', userId='179', event_time='2018-09-30 17:01:58', registration_time='2018-09-02 22:44:15'),\n",
       " Row(artist=None, auth='Logged In', firstName='Maverick', gender='M', itemInSession=185, lastName='Santiago', length=None, level='paid', location='Orlando-Kissimmee-Sanford, FL', method='PUT', page='Logout', registration=1535953455000, sessionId=178, song=None, status=307, ts=1538352119000, userAgent='\"Mozilla/5.0 (Macintosh; Intel Mac OS X 10_9_4) AppleWebKit/537.36 (KHTML, like Gecko) Chrome/36.0.1985.143 Safari/537.36\"', userId='179', event_time='2018-09-30 17:01:59', registration_time='2018-09-02 22:44:15'),\n",
       " Row(artist='Lily Allen', auth='Logged In', firstName='Gianna', gender='F', itemInSession=22, lastName='Campos', length=194.53342, level='paid', location='Mobile, AL', method='PUT', page='NextSong', registration=1535931018000, sessionId=245, song='Smile (Radio Edit)', status=200, ts=1538352124000, userAgent='Mozilla/5.0 (Windows NT 6.1; WOW64; rv:31.0) Gecko/20100101 Firefox/31.0', userId='246', event_time='2018-09-30 17:02:04', registration_time='2018-09-02 16:30:18'),\n",
       " Row(artist='Carter USM', auth='Logged In', firstName='Sofia', gender='F', itemInSession=266, lastName='Gordon', length=138.29179, level='paid', location='Rochester, MN', method='PUT', page='NextSong', registration=1533175710000, sessionId=162, song='Airplane Food', status=200, ts=1538352125000, userAgent='\"Mozilla/5.0 (Macintosh; Intel Mac OS X 10_9_4) AppleWebKit/537.36 (KHTML, like Gecko) Chrome/37.0.2062.94 Safari/537.36\"', userId='163', event_time='2018-09-30 17:02:05', registration_time='2018-08-01 19:08:30'),\n",
       " Row(artist=None, auth='Logged In', firstName='Maverick', gender='M', itemInSession=190, lastName='Santiago', length=None, level='paid', location='Orlando-Kissimmee-Sanford, FL', method='GET', page='Home', registration=1535953455000, sessionId=178, song=None, status=200, ts=1538352176000, userAgent='\"Mozilla/5.0 (Macintosh; Intel Mac OS X 10_9_4) AppleWebKit/537.36 (KHTML, like Gecko) Chrome/36.0.1985.143 Safari/537.36\"', userId='179', event_time='2018-09-30 17:02:56', registration_time='2018-09-02 22:44:15'),\n",
       " Row(artist='Aerosmith', auth='Logged In', firstName='Lacey', gender='F', itemInSession=107, lastName='Castaneda', length=220.39465, level='free', location='El Campo, TX', method='PUT', page='NextSong', registration=1537536032000, sessionId=442, song='Walk This Way', status=200, ts=1538352215000, userAgent='\"Mozilla/5.0 (Macintosh; Intel Mac OS X 10_10_0) AppleWebKit/537.36 (KHTML, like Gecko) Chrome/37.0.2062.94 Safari/537.36\"', userId='175', event_time='2018-09-30 17:03:35', registration_time='2018-09-21 06:20:32'),\n",
       " Row(artist=None, auth='Logged In', firstName='Colin', gender='M', itemInSession=0, lastName='Larson', length=None, level='free', location='Dallas-Fort Worth-Arlington, TX', method='GET', page='Home', registration=1537982255000, sessionId=497, song=None, status=200, ts=1538352241000, userAgent='Mozilla/5.0 (Windows NT 6.1; WOW64; rv:30.0) Gecko/20100101 Firefox/30.0', userId='100', event_time='2018-09-30 17:04:01', registration_time='2018-09-26 10:17:35'),\n",
       " Row(artist='Amy Winehouse', auth='Logged In', firstName='Colin', gender='M', itemInSession=1, lastName='Larson', length=201.50812, level='free', location='Dallas-Fort Worth-Arlington, TX', method='PUT', page='NextSong', registration=1537982255000, sessionId=497, song='Teach Me Tonight', status=200, ts=1538352259000, userAgent='Mozilla/5.0 (Windows NT 6.1; WOW64; rv:30.0) Gecko/20100101 Firefox/30.0', userId='100', event_time='2018-09-30 17:04:19', registration_time='2018-09-26 10:17:35')]"
      ]
     },
     "execution_count": 143,
     "metadata": {},
     "output_type": "execute_result"
    }
   ],
   "source": [
    "df.head(10)"
   ]
  },
  {
   "cell_type": "code",
   "execution_count": 144,
   "metadata": {},
   "outputs": [
    {
     "name": "stdout",
     "output_type": "stream",
     "text": [
      "root\n",
      " |-- artist: string (nullable = true)\n",
      " |-- auth: string (nullable = true)\n",
      " |-- firstName: string (nullable = true)\n",
      " |-- gender: string (nullable = true)\n",
      " |-- itemInSession: long (nullable = true)\n",
      " |-- lastName: string (nullable = true)\n",
      " |-- length: double (nullable = true)\n",
      " |-- level: string (nullable = true)\n",
      " |-- location: string (nullable = true)\n",
      " |-- method: string (nullable = true)\n",
      " |-- page: string (nullable = true)\n",
      " |-- registration: long (nullable = true)\n",
      " |-- sessionId: long (nullable = true)\n",
      " |-- song: string (nullable = true)\n",
      " |-- status: long (nullable = true)\n",
      " |-- ts: long (nullable = true)\n",
      " |-- userAgent: string (nullable = true)\n",
      " |-- userId: string (nullable = true)\n",
      " |-- event_time: string (nullable = true)\n",
      " |-- registration_time: string (nullable = true)\n",
      "\n"
     ]
    }
   ],
   "source": [
    "df.printSchema()"
   ]
  },
  {
   "cell_type": "markdown",
   "metadata": {},
   "source": [
    "# Exploratory Data Analysis\n",
    "When you're working with the full dataset, perform EDA by loading a small subset of the data and doing basic manipulations within Spark. In this workspace, you are already provided a small subset of data you can explore."
   ]
  },
  {
   "cell_type": "markdown",
   "metadata": {},
   "source": [
    "### Define Churn\n",
    "\n",
    "Once you've done some preliminary analysis, create a column `Churn` to use as the label for your model. I suggest using the `Cancellation Confirmation` events to define your churn, which happen for both paid and free users. As a bonus task, you can also look into the `Downgrade` events."
   ]
  },
  {
   "cell_type": "code",
   "execution_count": 145,
   "metadata": {},
   "outputs": [
    {
     "data": {
      "text/plain": [
       "\"\\nNotes\\n- Cancellation Confirmation & Downgrade -> 'Page' column\\n- Paid vs Free users -> 'Level' column\\n\\nFor reading\\n- https://clevertap.com/blog/churn-rate/\\n\\n\""
      ]
     },
     "execution_count": 145,
     "metadata": {},
     "output_type": "execute_result"
    }
   ],
   "source": [
    "'''\n",
    "Notes\n",
    "- Cancellation Confirmation & Downgrade -> 'Page' column\n",
    "- Paid vs Free users -> 'Level' column\n",
    "\n",
    "For reading\n",
    "- https://clevertap.com/blog/churn-rate/\n",
    "\n",
    "'''"
   ]
  },
  {
   "cell_type": "code",
   "execution_count": 146,
   "metadata": {},
   "outputs": [],
   "source": [
    "df_full = df.withColumn('churn', func.when(func.col('page') == 'Cancellation Confirmation', 1).otherwise(0))"
   ]
  },
  {
   "cell_type": "code",
   "execution_count": 147,
   "metadata": {},
   "outputs": [],
   "source": [
    "df_full = df_full.withColumn('downgrade', func.when(func.col('page') == 'Downgrade', 1).otherwise(0))"
   ]
  },
  {
   "cell_type": "code",
   "execution_count": 148,
   "metadata": {},
   "outputs": [
    {
     "name": "stdout",
     "output_type": "stream",
     "text": [
      "root\n",
      " |-- artist: string (nullable = true)\n",
      " |-- auth: string (nullable = true)\n",
      " |-- firstName: string (nullable = true)\n",
      " |-- gender: string (nullable = true)\n",
      " |-- itemInSession: long (nullable = true)\n",
      " |-- lastName: string (nullable = true)\n",
      " |-- length: double (nullable = true)\n",
      " |-- level: string (nullable = true)\n",
      " |-- location: string (nullable = true)\n",
      " |-- method: string (nullable = true)\n",
      " |-- page: string (nullable = true)\n",
      " |-- registration: long (nullable = true)\n",
      " |-- sessionId: long (nullable = true)\n",
      " |-- song: string (nullable = true)\n",
      " |-- status: long (nullable = true)\n",
      " |-- ts: long (nullable = true)\n",
      " |-- userAgent: string (nullable = true)\n",
      " |-- userId: string (nullable = true)\n",
      " |-- event_time: string (nullable = true)\n",
      " |-- registration_time: string (nullable = true)\n",
      " |-- churn: integer (nullable = false)\n",
      " |-- downgrade: integer (nullable = false)\n",
      "\n"
     ]
    }
   ],
   "source": [
    "df_full.printSchema()"
   ]
  },
  {
   "cell_type": "markdown",
   "metadata": {},
   "source": [
    "### Explore Data\n",
    "Once you've defined churn, perform some exploratory data analysis to observe the behavior for users who stayed vs users who churned. You can start by exploring aggregates on these two groups of users, observing how much of a specific action they experienced per a certain time unit or number of songs played."
   ]
  },
  {
   "cell_type": "code",
   "execution_count": 149,
   "metadata": {},
   "outputs": [
    {
     "name": "stdout",
     "output_type": "stream",
     "text": [
      "+-----+------+\n",
      "|level| count|\n",
      "+-----+------+\n",
      "| free|109961|\n",
      "| paid|418044|\n",
      "+-----+------+\n",
      "\n"
     ]
    }
   ],
   "source": [
    "df_full.groupBy(\"level\").count().show()"
   ]
  },
  {
   "cell_type": "code",
   "execution_count": 150,
   "metadata": {},
   "outputs": [
    {
     "name": "stdout",
     "output_type": "stream",
     "text": [
      "+--------------------+------+\n",
      "|                page| count|\n",
      "+--------------------+------+\n",
      "|              Cancel|    99|\n",
      "|    Submit Downgrade|   117|\n",
      "|         Thumbs Down|  4911|\n",
      "|                Home| 19089|\n",
      "|           Downgrade|  3811|\n",
      "|         Roll Advert|  7773|\n",
      "|              Logout|  5990|\n",
      "|       Save Settings|   585|\n",
      "|Cancellation Conf...|    99|\n",
      "|               About|  1026|\n",
      "|            Settings|  2964|\n",
      "|     Add to Playlist| 12349|\n",
      "|          Add Friend|  8087|\n",
      "|            NextSong|432877|\n",
      "|           Thumbs Up| 23826|\n",
      "|                Help|  2644|\n",
      "|             Upgrade|   968|\n",
      "|               Error|   503|\n",
      "|      Submit Upgrade|   287|\n",
      "+--------------------+------+\n",
      "\n"
     ]
    }
   ],
   "source": [
    "df_full.groupBy(\"page\").count().show()"
   ]
  },
  {
   "cell_type": "code",
   "execution_count": 151,
   "metadata": {},
   "outputs": [
    {
     "name": "stdout",
     "output_type": "stream",
     "text": [
      "+------+------+\n",
      "|status| count|\n",
      "+------+------+\n",
      "|   307| 43902|\n",
      "|   404|   503|\n",
      "|   200|483600|\n",
      "+------+------+\n",
      "\n"
     ]
    }
   ],
   "source": [
    "df_full.groupBy(\"status\").count().show()"
   ]
  },
  {
   "cell_type": "code",
   "execution_count": 152,
   "metadata": {},
   "outputs": [
    {
     "name": "stdout",
     "output_type": "stream",
     "text": [
      "+-----+------+\n",
      "|churn| count|\n",
      "+-----+------+\n",
      "|    1|    99|\n",
      "|    0|527906|\n",
      "+-----+------+\n",
      "\n"
     ]
    }
   ],
   "source": [
    "df_full.groupBy(\"churn\").count().show()"
   ]
  },
  {
   "cell_type": "code",
   "execution_count": 153,
   "metadata": {},
   "outputs": [
    {
     "name": "stdout",
     "output_type": "stream",
     "text": [
      "+---------+------+\n",
      "|downgrade| count|\n",
      "+---------+------+\n",
      "|        1|  3811|\n",
      "|        0|524194|\n",
      "+---------+------+\n",
      "\n"
     ]
    }
   ],
   "source": [
    "df_full.groupBy(\"downgrade\").count().show()"
   ]
  },
  {
   "cell_type": "code",
   "execution_count": 154,
   "metadata": {},
   "outputs": [],
   "source": [
    "churn_users = df_full.select(['userID',\n",
    "                'gender',\n",
    "                'level',\n",
    "                'registration_time',\n",
    "                'event_time']\n",
    "              ).filter(df_full[\"churn\"]==1)"
   ]
  },
  {
   "cell_type": "code",
   "execution_count": 155,
   "metadata": {},
   "outputs": [],
   "source": [
    "# Add column that calculates duration (in days) between the churn event and user registration event\n",
    "churn_users = churn_users.withColumn('member_duration', ((func.unix_timestamp(churn_users['event_time']) - func.unix_timestamp(churn_users['registration_time']))/3600)/24)"
   ]
  },
  {
   "cell_type": "code",
   "execution_count": 162,
   "metadata": {},
   "outputs": [
    {
     "name": "stdout",
     "output_type": "stream",
     "text": [
      "+------+------+-----+-------------------+-------------------+------------------+\n",
      "|userID|gender|level|  registration_time|         event_time|   member_duration|\n",
      "+------+------+-----+-------------------+-------------------+------------------+\n",
      "|   208|     F| free|2018-09-12 06:20:39|2018-10-01 06:30:16| 19.00667824074074|\n",
      "|   231|     F| paid|2018-08-05 05:38:20|2018-10-02 05:19:53|57.987187500000005|\n",
      "|   236|     M| paid|2018-06-25 23:46:19|2018-10-02 21:11:11| 98.89226851851852|\n",
      "|   156|     M| free|2018-08-10 00:53:40|2018-10-03 11:48:49|54.454965277777774|\n",
      "|   271|     M| paid|2018-08-30 01:51:34|2018-10-05 13:07:57|36.469710648148144|\n",
      "|   200|     M| paid|2018-09-28 23:17:12|2018-10-05 21:35:31| 6.929386574074074|\n",
      "|   130|     M| free|2018-08-06 10:07:16|2018-10-06 22:41:35|61.523831018518514|\n",
      "|   123|     M| free|2018-08-15 15:08:03|2018-10-07 17:38:01| 53.10414351851852|\n",
      "|    54|     F| paid|2018-07-24 18:37:42|2018-10-08 01:33:06| 75.28847222222223|\n",
      "|    39|     F| paid|2018-06-14 18:52:21|2018-10-08 08:10:56|115.55457175925926|\n",
      "|   154|     M| free|2018-09-27 04:40:34|2018-10-08 09:34:41|11.204247685185186|\n",
      "|   132|     F| paid|2018-09-15 16:35:53|2018-10-08 16:31:53| 22.99722222222222|\n",
      "|    10|     M| paid|2018-09-28 11:31:35|2018-10-08 20:22:44|10.368854166666667|\n",
      "|   296|     F| paid|2018-09-13 17:41:28|2018-10-10 09:00:34| 26.63826388888889|\n",
      "|   187|     F| free|2018-09-19 12:26:08|2018-10-10 16:11:31|21.156516203703703|\n",
      "|    51|     M| paid|2018-09-27 13:43:07|2018-10-16 10:01:06| 18.84582175925926|\n",
      "|    13|     F| paid|2018-08-01 23:40:32|2018-10-17 02:34:39| 76.12091435185185|\n",
      "|    32|     M| paid|2018-09-16 23:59:53|2018-10-17 20:04:56|30.836840277777778|\n",
      "|    28|     F| paid|2018-09-22 09:47:45|2018-10-19 09:53:21| 27.00388888888889|\n",
      "|   198|     F| paid|2018-04-15 00:32:01|2018-10-25 08:43:06| 193.3410300925926|\n",
      "+------+------+-----+-------------------+-------------------+------------------+\n",
      "only showing top 20 rows\n",
      "\n"
     ]
    }
   ],
   "source": [
    "churn_users.show()"
   ]
  },
  {
   "cell_type": "code",
   "execution_count": 163,
   "metadata": {},
   "outputs": [
    {
     "name": "stdout",
     "output_type": "stream",
     "text": [
      "+-------+-------------------+\n",
      "|summary|    member_duration|\n",
      "+-------+-------------------+\n",
      "|  count|                 99|\n",
      "|   mean|   67.9680198980546|\n",
      "| stddev|  43.54582091999607|\n",
      "|    min|-0.5227314814814815|\n",
      "|    max| 263.91400462962963|\n",
      "+-------+-------------------+\n",
      "\n"
     ]
    }
   ],
   "source": [
    "# Average duration before church is 57 days\n",
    "churn_users.describe(['member_duration']).show()"
   ]
  },
  {
   "cell_type": "code",
   "execution_count": 164,
   "metadata": {},
   "outputs": [
    {
     "name": "stdout",
     "output_type": "stream",
     "text": [
      "+------+-----+\n",
      "|gender|count|\n",
      "+------+-----+\n",
      "|     F|   45|\n",
      "|     M|   54|\n",
      "+------+-----+\n",
      "\n"
     ]
    }
   ],
   "source": [
    "# Most churns are males\n",
    "churn_users.groupBy(\"gender\").count().show()"
   ]
  },
  {
   "cell_type": "code",
   "execution_count": 165,
   "metadata": {},
   "outputs": [
    {
     "name": "stdout",
     "output_type": "stream",
     "text": [
      "+-----+-----+\n",
      "|level|count|\n",
      "+-----+-----+\n",
      "| free|   32|\n",
      "| paid|   67|\n",
      "+-----+-----+\n",
      "\n"
     ]
    }
   ],
   "source": [
    "# Most churns are paid users\n",
    "churn_users.groupBy(\"level\").count().show()"
   ]
  },
  {
   "cell_type": "code",
   "execution_count": 166,
   "metadata": {},
   "outputs": [
    {
     "name": "stdout",
     "output_type": "stream",
     "text": [
      "+---------+---------+-----+--------------------+------+-------------------+\n",
      "|sessionId|   length|level|                page|status|         event_time|\n",
      "+---------+---------+-----+--------------------+------+-------------------+\n",
      "|     1881|     null| paid|Cancellation Conf...|   200|2018-10-17 20:04:56|\n",
      "|     1881|     null| paid|              Cancel|   307|2018-10-17 20:03:48|\n",
      "|     1881|     null| paid|           Downgrade|   200|2018-10-17 20:03:47|\n",
      "|     1881|348.29016| paid|            NextSong|   200|2018-10-17 20:02:46|\n",
      "|     1881|304.84853| paid|            NextSong|   200|2018-10-17 19:57:42|\n",
      "|     1881|293.56363| paid|            NextSong|   200|2018-10-17 19:52:49|\n",
      "|     1881|181.75955| paid|            NextSong|   200|2018-10-17 19:49:48|\n",
      "|     1881|343.71873| paid|            NextSong|   200|2018-10-17 19:44:05|\n",
      "|     1881|185.44281| paid|            NextSong|   200|2018-10-17 19:41:00|\n",
      "|     1881|239.17669| paid|            NextSong|   200|2018-10-17 19:37:01|\n",
      "|     1881|372.29669| paid|            NextSong|   200|2018-10-17 19:30:49|\n",
      "|     1881|169.29914| paid|            NextSong|   200|2018-10-17 19:28:00|\n",
      "|     1881|227.39546| paid|            NextSong|   200|2018-10-17 19:24:13|\n",
      "|     1881|     null| paid|           Downgrade|   200|2018-10-17 19:22:24|\n",
      "|     1881|233.89995| paid|            NextSong|   200|2018-10-17 19:20:20|\n",
      "|     1881|151.58812| paid|            NextSong|   200|2018-10-17 19:17:49|\n",
      "|     1881| 216.5024| paid|            NextSong|   200|2018-10-17 19:14:13|\n",
      "|     1881|178.07628| paid|            NextSong|   200|2018-10-17 19:11:15|\n",
      "|     1881|179.25179| paid|            NextSong|   200|2018-10-17 19:08:16|\n",
      "|     1881|187.32363| paid|            NextSong|   200|2018-10-17 19:05:09|\n",
      "+---------+---------+-----+--------------------+------+-------------------+\n",
      "only showing top 20 rows\n",
      "\n"
     ]
    }
   ],
   "source": [
    "''' \n",
    "Analyze specific churn user\n",
    "\n",
    "'''\n",
    "df_full.select(['sessionId','length','level','page','status','event_time']).filter(df_full[\"userID\"]=='32').orderBy('event_time', ascending=False).show()"
   ]
  },
  {
   "cell_type": "code",
   "execution_count": 167,
   "metadata": {},
   "outputs": [
    {
     "name": "stdout",
     "output_type": "stream",
     "text": [
      "+--------------------+-----+\n",
      "|                page|count|\n",
      "+--------------------+-----+\n",
      "|              Cancel|    1|\n",
      "|         Thumbs Down|    1|\n",
      "|                Home|   15|\n",
      "|           Downgrade|    4|\n",
      "|         Roll Advert|    7|\n",
      "|              Logout|    4|\n",
      "|Cancellation Conf...|    1|\n",
      "|            Settings|    1|\n",
      "|     Add to Playlist|   11|\n",
      "|          Add Friend|    1|\n",
      "|            NextSong|  201|\n",
      "|           Thumbs Up|    9|\n",
      "|                Help|    2|\n",
      "|             Upgrade|    2|\n",
      "|      Submit Upgrade|    1|\n",
      "+--------------------+-----+\n",
      "\n"
     ]
    }
   ],
   "source": [
    "user_32 = df_full.filter(df_full[\"userID\"]=='32')\n",
    "user_32.groupBy(\"page\").count().show()"
   ]
  },
  {
   "cell_type": "code",
   "execution_count": 168,
   "metadata": {},
   "outputs": [
    {
     "name": "stdout",
     "output_type": "stream",
     "text": [
      "+------+-----+\n",
      "|status|count|\n",
      "+------+-----+\n",
      "|   307|   17|\n",
      "|   200|  244|\n",
      "+------+-----+\n",
      "\n"
     ]
    }
   ],
   "source": [
    "user_32.groupBy(\"status\").count().show()"
   ]
  },
  {
   "cell_type": "code",
   "execution_count": 169,
   "metadata": {},
   "outputs": [
    {
     "name": "stdout",
     "output_type": "stream",
     "text": [
      "+-----+-----+\n",
      "|level|count|\n",
      "+-----+-----+\n",
      "| free|  141|\n",
      "| paid|  120|\n",
      "+-----+-----+\n",
      "\n"
     ]
    }
   ],
   "source": [
    "user_32.groupBy(\"level\").count().show()"
   ]
  },
  {
   "cell_type": "code",
   "execution_count": 170,
   "metadata": {},
   "outputs": [
    {
     "data": {
      "text/plain": [
       "448"
      ]
     },
     "execution_count": 170,
     "metadata": {},
     "output_type": "execute_result"
    }
   ],
   "source": [
    "df_full.select(\"userID\").distinct().count()"
   ]
  },
  {
   "cell_type": "code",
   "execution_count": null,
   "metadata": {},
   "outputs": [],
   "source": [
    "'''\n",
    "To Do\n",
    "- Get # of sessionID per user\n",
    "- Get Avg / Total duration of sessionID per user\n",
    "- Get # of errors\n",
    "- Get total member duration\n",
    "- Get Avg 'Next Song' per session\n",
    "- Get Total 'Next Song'\n",
    "- Get # of Downgrades\n",
    "- Get # of thumbs up and thumbs down\n",
    "- Something about roll adverts?\n",
    "- Get 'level' information\n",
    "- Get # of days free vs paid\n",
    "\n",
    "--> How to apply One Hot Encoding?\n",
    "\n",
    "\n",
    "'''"
   ]
  },
  {
   "cell_type": "markdown",
   "metadata": {},
   "source": [
    "# Feature Engineering\n",
    "Once you've familiarized yourself with the data, build out the features you find promising to train your model on. To work with the full dataset, you can follow the following steps.\n",
    "- Write a script to extract the necessary features from the smaller subset of data\n",
    "- Ensure that your script is scalable, using the best practices discussed in Lesson 3\n",
    "- Try your script on the full data set, debugging your script if necessary\n",
    "\n",
    "If you are working in the classroom workspace, you can just extract features based on the small subset of data contained here. Be sure to transfer over this work to the larger dataset when you work on your Spark cluster."
   ]
  },
  {
   "cell_type": "code",
   "execution_count": null,
   "metadata": {},
   "outputs": [],
   "source": []
  },
  {
   "cell_type": "markdown",
   "metadata": {},
   "source": [
    "# Modeling\n",
    "Split the full dataset into train, test, and validation sets. Test out several of the machine learning methods you learned. Evaluate the accuracy of the various models, tuning parameters as necessary. Determine your winning model based on test accuracy and report results on the validation set. Since the churned users are a fairly small subset, I suggest using F1 score as the metric to optimize."
   ]
  },
  {
   "cell_type": "code",
   "execution_count": null,
   "metadata": {},
   "outputs": [],
   "source": []
  },
  {
   "cell_type": "markdown",
   "metadata": {},
   "source": [
    "# Final Steps\n",
    "Clean up your code, adding comments and renaming variables to make the code easier to read and maintain. Refer to the Spark Project Overview page and Data Scientist Capstone Project Rubric to make sure you are including all components of the capstone project and meet all expectations. Remember, this includes thorough documentation in a README file in a Github repository, as well as a web app or blog post."
   ]
  },
  {
   "cell_type": "code",
   "execution_count": null,
   "metadata": {},
   "outputs": [],
   "source": []
  }
 ],
 "metadata": {
  "kernelspec": {
   "display_name": "Python 3",
   "language": "python",
   "name": "python3"
  },
  "language_info": {
   "codemirror_mode": {
    "name": "ipython",
    "version": 3
   },
   "file_extension": ".py",
   "mimetype": "text/x-python",
   "name": "python",
   "nbconvert_exporter": "python",
   "pygments_lexer": "ipython3",
   "version": "3.7.4"
  }
 },
 "nbformat": 4,
 "nbformat_minor": 2
}

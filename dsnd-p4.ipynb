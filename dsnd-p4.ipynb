{
 "cells": [
  {
   "cell_type": "markdown",
   "metadata": {},
   "source": [
    "# Predicting churn using Spark"
   ]
  },
  {
   "cell_type": "markdown",
   "metadata": {},
   "source": [
    "This notebook contains **an analysis that predicts churn rates** for a hypothetical music streaming app service called Sparkify. The analysis was done using **Spark with the PySpark Python API**  and follows the [CRISP-DM](https://en.wikipedia.org/wiki/Cross-industry_standard_process_for_data_mining) process model.\n",
    "\n",
    "The data for this analysis was provided by Udacity as part of the capstone project in the Data Science Nanodegree program. The [medium-sized version of the data](https://video.udacity-data.com/topher/2018/December/5c1d6681_medium-sparkify-event-data/medium-sparkify-event-data.json) was used in this analysis."
   ]
  },
  {
   "cell_type": "markdown",
   "metadata": {},
   "source": [
    "## Libraries"
   ]
  },
  {
   "cell_type": "markdown",
   "metadata": {},
   "source": [
    "Options were provided to either use a workspace on the Udacity platform, an AWS cluster or IBM Watson. Fortunately, after doing some research, [a blog post was found that shared steps on how to set up Spark locally on a Windows](https://medium.com/@naomi.fridman/install-pyspark-to-run-on-jupyter-notebook-on-windows-4ec2009de21f)."
   ]
  },
  {
   "cell_type": "markdown",
   "metadata": {},
   "source": [
    "The following are required to access Spark through Jupyter on Windows (with Anaconda)"
   ]
  },
  {
   "cell_type": "code",
   "execution_count": 1,
   "metadata": {},
   "outputs": [
    {
     "data": {
      "text/plain": [
       "'C:\\\\spark\\\\spark-2.4.5-bin-hadoop2.7'"
      ]
     },
     "execution_count": 1,
     "metadata": {},
     "output_type": "execute_result"
    }
   ],
   "source": [
    "# import libraries\n",
    "import findspark\n",
    "findspark.init()\n",
    "findspark.find()\n",
    "\n",
    "import pyspark\n",
    "findspark.find()"
   ]
  },
  {
   "cell_type": "markdown",
   "metadata": {},
   "source": [
    "The following are a combination of the Spark and Python libraries that were imported to support the analysis required"
   ]
  },
  {
   "cell_type": "code",
   "execution_count": 2,
   "metadata": {},
   "outputs": [],
   "source": [
    "# create a Spark session\n",
    "from pyspark.sql import SparkSession\n",
    "spark = SparkSession.builder.appName('Sparkify').getOrCreate()"
   ]
  },
  {
   "cell_type": "code",
   "execution_count": 3,
   "metadata": {},
   "outputs": [],
   "source": [
    "# functions to import\n",
    "from pyspark.sql.functions import count, udf, col, countDistinct, to_timestamp, first, lit\n",
    "import pyspark.sql.functions as func\n",
    "import datetime\n",
    "from time import time"
   ]
  },
  {
   "cell_type": "code",
   "execution_count": 4,
   "metadata": {},
   "outputs": [],
   "source": [
    "# python ds imports\n",
    "import pandas as pd\n",
    "import numpy as np\n",
    "import matplotlib.pyplot as plt\n",
    "%matplotlib inline"
   ]
  },
  {
   "cell_type": "markdown",
   "metadata": {},
   "source": [
    "## Load Data"
   ]
  },
  {
   "cell_type": "markdown",
   "metadata": {},
   "source": [
    "Spark's standard JSON reader was used to load the .json dataset"
   ]
  },
  {
   "cell_type": "code",
   "execution_count": 5,
   "metadata": {},
   "outputs": [],
   "source": [
    "# Read in data\n",
    "# You may want to download the data locally first and store in the same directory as this notebook\n",
    "df = spark.read.json('medium-sparkify-event-data.json')"
   ]
  },
  {
   "cell_type": "code",
   "execution_count": 6,
   "metadata": {},
   "outputs": [
    {
     "data": {
      "text/plain": [
       "[Row(artist='Martin Orford', auth='Logged In', firstName='Joseph', gender='M', itemInSession=20, lastName='Morales', length=597.55057, level='free', location='Corpus Christi, TX', method='PUT', page='NextSong', registration=1532063507000, sessionId=292, song='Grand Designs', status=200, ts=1538352011000, userAgent='\"Mozilla/5.0 (Macintosh; Intel Mac OS X 10_9_4) AppleWebKit/537.36 (KHTML, like Gecko) Chrome/36.0.1985.125 Safari/537.36\"', userId='293'),\n",
       " Row(artist=\"John Brown's Body\", auth='Logged In', firstName='Sawyer', gender='M', itemInSession=74, lastName='Larson', length=380.21179, level='free', location='Houston-The Woodlands-Sugar Land, TX', method='PUT', page='NextSong', registration=1538069638000, sessionId=97, song='Bulls', status=200, ts=1538352025000, userAgent='\"Mozilla/5.0 (Macintosh; Intel Mac OS X 10_9_4) AppleWebKit/537.36 (KHTML, like Gecko) Chrome/36.0.1985.143 Safari/537.36\"', userId='98')]"
      ]
     },
     "execution_count": 6,
     "metadata": {},
     "output_type": "execute_result"
    }
   ],
   "source": [
    "# Verify data was read successfully \n",
    "df.head(2)"
   ]
  },
  {
   "cell_type": "markdown",
   "metadata": {},
   "source": [
    "## Clean Data"
   ]
  },
  {
   "cell_type": "markdown",
   "metadata": {},
   "source": [
    "A tip was provided that indicated that there may be some missing data. After doing some review, it was found that **there were rows that did not have any userID**. As a result, **these rows were removed** to avoid the data analysis being impacted by incomplete data."
   ]
  },
  {
   "cell_type": "code",
   "execution_count": 7,
   "metadata": {},
   "outputs": [],
   "source": [
    "# Only keep rows that have userID\n",
    "df = df.where(\"userID != ''\")"
   ]
  },
  {
   "cell_type": "markdown",
   "metadata": {},
   "source": [
    "Two columns (`ts` & `registration`) were found that represented dates but were in a different format. To ensure that these columns could be analyzed properly, they were converted to the appropriate data type."
   ]
  },
  {
   "cell_type": "code",
   "execution_count": 8,
   "metadata": {},
   "outputs": [],
   "source": [
    "# Convert fields with timestamps to Date and Timestamp\n",
    "convert_ts = udf(lambda x: datetime.datetime.fromtimestamp(x / 1000.0).strftime(\"%Y-%m-%d %H:%M:%S\"))\n",
    "df = df.withColumn('event_time', convert_ts('ts'))\n",
    "df = df.withColumn('registration_time', convert_ts('registration'))"
   ]
  },
  {
   "cell_type": "markdown",
   "metadata": {},
   "source": [
    "Overall, there are over ~52k rows. Each row represented an event."
   ]
  },
  {
   "cell_type": "code",
   "execution_count": 9,
   "metadata": {},
   "outputs": [
    {
     "data": {
      "text/plain": [
       "528005"
      ]
     },
     "execution_count": 9,
     "metadata": {},
     "output_type": "execute_result"
    }
   ],
   "source": [
    "df.count()"
   ]
  },
  {
   "cell_type": "markdown",
   "metadata": {},
   "source": [
    "## Exploratory Data Analysis\n",
    "In this section of the notebook, the data was explored to determine the fields / columns that could serve as the features to predict churn."
   ]
  },
  {
   "cell_type": "markdown",
   "metadata": {},
   "source": [
    "### Define Churn\n",
    "\n",
    "In this analysis, **churn** refers to when users stop using the Sparkify service.\n",
    "\n",
    "To determine users who have churned in the current dataset, a new `Churn` column was created. This new column was set to '1' if the page column on the row had `Cancellation Confirmation`. More importantly, the new `Churn` column would be used as the label column during the modeling process which occurs at the end of the analysis."
   ]
  },
  {
   "cell_type": "code",
   "execution_count": 10,
   "metadata": {},
   "outputs": [],
   "source": [
    "# Creating Churn column\n",
    "df_full = df.withColumn('churn', func.when(func.col('page') == 'Cancellation Confirmation', 1).otherwise(0))"
   ]
  },
  {
   "cell_type": "markdown",
   "metadata": {},
   "source": [
    "A `Downgrade` column was also created. This column was set to '1' if the page column on the row had `Downgrade`. This would be used as a feature for modeling."
   ]
  },
  {
   "cell_type": "code",
   "execution_count": 11,
   "metadata": {},
   "outputs": [],
   "source": [
    "# Creating Downgrade column\n",
    "df_full = df_full.withColumn('downgrade', func.when(func.col('page') == 'Downgrade', 1).otherwise(0))"
   ]
  },
  {
   "cell_type": "code",
   "execution_count": 12,
   "metadata": {},
   "outputs": [
    {
     "name": "stdout",
     "output_type": "stream",
     "text": [
      "root\n",
      " |-- artist: string (nullable = true)\n",
      " |-- auth: string (nullable = true)\n",
      " |-- firstName: string (nullable = true)\n",
      " |-- gender: string (nullable = true)\n",
      " |-- itemInSession: long (nullable = true)\n",
      " |-- lastName: string (nullable = true)\n",
      " |-- length: double (nullable = true)\n",
      " |-- level: string (nullable = true)\n",
      " |-- location: string (nullable = true)\n",
      " |-- method: string (nullable = true)\n",
      " |-- page: string (nullable = true)\n",
      " |-- registration: long (nullable = true)\n",
      " |-- sessionId: long (nullable = true)\n",
      " |-- song: string (nullable = true)\n",
      " |-- status: long (nullable = true)\n",
      " |-- ts: long (nullable = true)\n",
      " |-- userAgent: string (nullable = true)\n",
      " |-- userId: string (nullable = true)\n",
      " |-- event_time: string (nullable = true)\n",
      " |-- registration_time: string (nullable = true)\n",
      " |-- churn: integer (nullable = false)\n",
      " |-- downgrade: integer (nullable = false)\n",
      "\n"
     ]
    }
   ],
   "source": [
    "# Confirm creation of new columns\n",
    "df_full.printSchema()"
   ]
  },
  {
   "cell_type": "markdown",
   "metadata": {},
   "source": [
    "### Descriptive data\n",
    "It is important to get an idea of the 'basics', starting with the count of distinct users in the dataset, which was found to be 448."
   ]
  },
  {
   "cell_type": "code",
   "execution_count": 13,
   "metadata": {},
   "outputs": [
    {
     "data": {
      "text/plain": [
       "448"
      ]
     },
     "execution_count": 13,
     "metadata": {},
     "output_type": "execute_result"
    }
   ],
   "source": [
    "# Count of distinct users\n",
    "df_full.select(\"userID\").distinct().count()"
   ]
  },
  {
   "cell_type": "markdown",
   "metadata": {},
   "source": [
    "All distinct IDs were collected in a list in case they were required to be used during the analysis."
   ]
  },
  {
   "cell_type": "code",
   "execution_count": 14,
   "metadata": {},
   "outputs": [],
   "source": [
    "# Get distinct userIds into a list; to be used in later queries\n",
    "distinct_userIds = df_full.select(\"userID\").distinct().collect()\n",
    "\n",
    "distinct_userId_list = []\n",
    "for row in distinct_userIds:\n",
    "    distinct_userId_list.append(row[0])"
   ]
  },
  {
   "cell_type": "markdown",
   "metadata": {},
   "source": [
    "### User data exploration\n",
    "In this section, an analysis was done of the users who stayed (non-churn) and the users who churned (churn). The analysis looked to compare:\n",
    "* Non-Churn vs Churn data\n",
    "* Churn users by month, to see if there was any pattern\n",
    "* Churn users by gender, to see if there was any pattern\n",
    "* Churn users by level (paid vs free), to see if there was any pattern"
   ]
  },
  {
   "cell_type": "code",
   "execution_count": 15,
   "metadata": {},
   "outputs": [],
   "source": [
    "# To get able to get month data\n",
    "from pyspark.sql.functions import format_number,dayofmonth,hour,dayofyear,month,year,weekofyear,date_format\n",
    "\n",
    "# Get month data and add other columns needed\n",
    "churn_events = df_full.orderBy('churn', ascending=False).withColumn(\"month\",month(df_full['event_time'])).groupBy('userId').agg(first('event_time').alias(\"event_time\"),\n",
    "                                                                                                                                first('gender').alias(\"gender\"),\n",
    "                                                                                                                                first('level').alias(\"level\"),\n",
    "                                                                                                                                first('month').alias(\"month\"),\n",
    "                                                                                                                                first('churn').alias(\"churn\"))"
   ]
  },
  {
   "cell_type": "markdown",
   "metadata": {},
   "source": [
    "#### Non-Churn vs Churn"
   ]
  },
  {
   "cell_type": "code",
   "execution_count": 16,
   "metadata": {},
   "outputs": [],
   "source": [
    "# Convert to pandas for visualization\n",
    "churn_events_pd = churn_events.groupBy('churn').count().toPandas()"
   ]
  },
  {
   "cell_type": "code",
   "execution_count": 17,
   "metadata": {},
   "outputs": [
    {
     "data": {
      "text/plain": [
       "Text(0.5, 1.0, 'Non-Churn vs Churn')"
      ]
     },
     "execution_count": 17,
     "metadata": {},
     "output_type": "execute_result"
    },
    {
     "data": {
      "image/png": "[encoded data removed]",
      "text/plain": [
       "<Figure size 360x360 with 1 Axes>"
      ]
     },
     "metadata": {},
     "output_type": "display_data"
    }
   ],
   "source": [
    "# Create pandas pie chart\n",
    "churn_events_labels = 'Churn','Non-Churn'\n",
    "churn_events_plt = churn_events_pd.plot.pie(y='count', labels=churn_events_labels, figsize = (5,5), autopct='%1.0f%%')\n",
    "churn_events_plt.set_title(\"Non-Churn vs Churn\")"
   ]
  },
  {
   "cell_type": "code",
   "execution_count": 18,
   "metadata": {},
   "outputs": [
    {
     "name": "stdout",
     "output_type": "stream",
     "text": [
      "+-----+-----+\n",
      "|churn|count|\n",
      "+-----+-----+\n",
      "|    1|   99|\n",
      "|    0|  349|\n",
      "+-----+-----+\n",
      "\n"
     ]
    }
   ],
   "source": [
    "# Filter for if churn == 1 and group by gender\n",
    "churn_events.groupBy('churn').count().show()"
   ]
  },
  {
   "cell_type": "markdown",
   "metadata": {},
   "source": [
    "#### Churn users by month"
   ]
  },
  {
   "cell_type": "code",
   "execution_count": 19,
   "metadata": {},
   "outputs": [
    {
     "name": "stdout",
     "output_type": "stream",
     "text": [
      "+-----+-----+\n",
      "|month|count|\n",
      "+-----+-----+\n",
      "|   10|   49|\n",
      "|   11|   50|\n",
      "+-----+-----+\n",
      "\n"
     ]
    }
   ],
   "source": [
    "# Filter for if churn == 1 and group by gender\n",
    "churn_events.filter(churn_events['churn'] == 1).groupBy('month').count().show()"
   ]
  },
  {
   "cell_type": "markdown",
   "metadata": {},
   "source": [
    "#### Churn users by gender"
   ]
  },
  {
   "cell_type": "code",
   "execution_count": 20,
   "metadata": {},
   "outputs": [
    {
     "name": "stdout",
     "output_type": "stream",
     "text": [
      "+------+-----+\n",
      "|gender|count|\n",
      "+------+-----+\n",
      "|     F|   45|\n",
      "|     M|   54|\n",
      "+------+-----+\n",
      "\n"
     ]
    }
   ],
   "source": [
    "# Filter for if churn == 1 and group by gender\n",
    "churn_events.filter(churn_events['churn'] == 1).groupBy('gender').count().show()"
   ]
  },
  {
   "cell_type": "markdown",
   "metadata": {},
   "source": [
    "#### Churn users by level (paid vs free)"
   ]
  },
  {
   "cell_type": "code",
   "execution_count": 21,
   "metadata": {},
   "outputs": [
    {
     "name": "stdout",
     "output_type": "stream",
     "text": [
      "+-----+-----+\n",
      "|level|count|\n",
      "+-----+-----+\n",
      "| free|   32|\n",
      "| paid|   67|\n",
      "+-----+-----+\n",
      "\n"
     ]
    }
   ],
   "source": [
    "# Filter for if churn == 1 and group by level\n",
    "churn_events.filter(churn_events['churn'] == 1).groupBy('level').count().show()"
   ]
  },
  {
   "cell_type": "markdown",
   "metadata": {},
   "source": [
    "> Over a span of ~2 months, about 22% (99/448) of users churned. Most users were male and were paid users. Month does not seem to be a factor."
   ]
  },
  {
   "cell_type": "markdown",
   "metadata": {},
   "source": [
    "### Event data exploration"
   ]
  },
  {
   "cell_type": "markdown",
   "metadata": {},
   "source": [
    "The 'page' column was a key indicator in the behaviors / actions of users. For this reason, it was important to look at this column in-detail"
   ]
  },
  {
   "cell_type": "markdown",
   "metadata": {},
   "source": [
    "Separating non-churn and churn users so that we can gather data specific for each user type"
   ]
  },
  {
   "cell_type": "code",
   "execution_count": 22,
   "metadata": {},
   "outputs": [],
   "source": [
    "# Get ids of users who churned\n",
    "churn_users_ids = (df_full.select(\"userID\").filter(df_full['churn'] == 1)\n",
    "                                           .orderBy('userID', ascending=False)\n",
    "                                           .distinct()\n",
    "                                           .collect())\n",
    "\n",
    "churn_users_ids_list = []\n",
    "for row in churn_users_ids:\n",
    "    if row not in churn_users_ids_list:\n",
    "        churn_users_ids_list.append(row[0])\n",
    "\n",
    "# Getting all events from id list of users who churned\n",
    "churn_users_events = df_full.filter(col('userId').isin(churn_users_ids_list))"
   ]
  },
  {
   "cell_type": "code",
   "execution_count": 23,
   "metadata": {},
   "outputs": [],
   "source": [
    "# Getting all events from id list of users who stayed\n",
    "non_churn_users_events = df_full.filter(~col('userId').isin(*churn_users_ids_list))"
   ]
  },
  {
   "cell_type": "markdown",
   "metadata": {},
   "source": [
    "Creating and merging the appropriate dataframe / queries so that we can compare behaviors / actions of each user type to see if there are any patterns."
   ]
  },
  {
   "cell_type": "code",
   "execution_count": 24,
   "metadata": {},
   "outputs": [],
   "source": [
    "# Gather page event data for churn users\n",
    "# Get the percentage of events for each page\n",
    "from pyspark.sql.functions import format_number\n",
    "\n",
    "churn_users_events_pages = churn_users_events.orderBy('page').groupBy('page').count()\n",
    "churn_users_events_pages = churn_users_events_pages.withColumn(\"churn_pc\",(format_number(((func.col('count')/churn_users_events.count())*100),2)))\n",
    "churn_users_events_pages = churn_users_events_pages.select(['page','churn_pc'])"
   ]
  },
  {
   "cell_type": "code",
   "execution_count": 25,
   "metadata": {},
   "outputs": [],
   "source": [
    "# Gather page event data for non churn users\n",
    "# Get the percentage of events for each page\n",
    "non_churn_users_events_pages = non_churn_users_events.orderBy('page').groupBy('page').count()\n",
    "non_churn_users_events_pages = non_churn_users_events_pages.withColumn(\"non_churn_pc\",(format_number(((func.col('count')/non_churn_users_events.count())*100),2)))\n",
    "non_churn_users_events_pages = non_churn_users_events_pages.select(['page','non_churn_pc'])"
   ]
  },
  {
   "cell_type": "code",
   "execution_count": 26,
   "metadata": {},
   "outputs": [],
   "source": [
    "churn_vs_non_churn_events = churn_users_events_pages.join(non_churn_users_events_pages, on=['page'], how='outer')"
   ]
  },
  {
   "cell_type": "markdown",
   "metadata": {},
   "source": [
    "Tabular view for comparison / analysis"
   ]
  },
  {
   "cell_type": "code",
   "execution_count": 27,
   "metadata": {},
   "outputs": [
    {
     "name": "stdout",
     "output_type": "stream",
     "text": [
      "+--------------------+--------+------------+\n",
      "|                page|churn_pc|non_churn_pc|\n",
      "+--------------------+--------+------------+\n",
      "|              Cancel|    0.10|        null|\n",
      "|    Submit Downgrade|    0.03|        0.02|\n",
      "|         Thumbs Down|    1.12|        0.88|\n",
      "|                Home|    3.65|        3.61|\n",
      "|           Downgrade|    0.80|        0.70|\n",
      "|         Roll Advert|    2.11|        1.32|\n",
      "|              Logout|    1.14|        1.13|\n",
      "|       Save Settings|    0.10|        0.11|\n",
      "|Cancellation Conf...|    0.10|        null|\n",
      "|               About|    0.18|        0.20|\n",
      "|            Settings|    0.60|        0.55|\n",
      "|     Add to Playlist|    2.18|        2.38|\n",
      "|          Add Friend|    1.48|        1.54|\n",
      "|            NextSong|   81.39|       82.13|\n",
      "|           Thumbs Up|    4.15|        4.60|\n",
      "|                Help|    0.50|        0.50|\n",
      "|             Upgrade|    0.23|        0.17|\n",
      "|               Error|    0.09|        0.10|\n",
      "|      Submit Upgrade|    0.07|        0.05|\n",
      "+--------------------+--------+------------+\n",
      "\n"
     ]
    }
   ],
   "source": [
    "churn_vs_non_churn_events.show()"
   ]
  },
  {
   "cell_type": "markdown",
   "metadata": {},
   "source": [
    "Bar chart view for comparison / visualization"
   ]
  },
  {
   "cell_type": "code",
   "execution_count": 28,
   "metadata": {},
   "outputs": [],
   "source": [
    "# Visualization\n",
    "churn_vs_non_churn_events_pd = churn_vs_non_churn_events.toPandas()"
   ]
  },
  {
   "cell_type": "code",
   "execution_count": 29,
   "metadata": {},
   "outputs": [],
   "source": [
    "churn_vs_non_churn_events_pd['churn_pc'] = churn_vs_non_churn_events_pd['churn_pc'].astype('float')\n",
    "churn_vs_non_churn_events_pd['non_churn_pc'] = churn_vs_non_churn_events_pd['non_churn_pc'].astype('float')"
   ]
  },
  {
   "cell_type": "code",
   "execution_count": 30,
   "metadata": {
    "scrolled": true
   },
   "outputs": [
    {
     "data": {
      "text/plain": [
       "Text(0.5, 1.0, 'Pages / Events: Churn Users vs Non Churn Users')"
      ]
     },
     "execution_count": 30,
     "metadata": {},
     "output_type": "execute_result"
    },
    {
     "data": {
      "image/png": "[encoded data removed]",
      "text/plain": [
       "<Figure size 1080x1080 with 1 Axes>"
      ]
     },
     "metadata": {
      "needs_background": "light"
     },
     "output_type": "display_data"
    }
   ],
   "source": [
    "churn_vs_non_churn_events_plt = churn_vs_non_churn_events_pd.plot(kind = 'barh', figsize = (15,15))\n",
    "churn_vs_non_churn_events_plt.legend = ([\"churn_pc\", \"non_churn_pc\"])\n",
    "churn_vs_non_churn_events_plt.set_yticklabels(list(churn_vs_non_churn_events_pd['page'].values))\n",
    "churn_vs_non_churn_events_plt.set_xlabel(\"Count\")\n",
    "churn_vs_non_churn_events_plt.set_ylabel(\"Pages / Events\")\n",
    "churn_vs_non_churn_events_plt.set_title(\"Pages / Events: Churn Users vs Non Churn Users\")"
   ]
  },
  {
   "cell_type": "markdown",
   "metadata": {},
   "source": [
    ">By analyzing the events (i.e. page data), we get a good idea of what features we can get out of this data by looking at events that have the most occurences by each user type.  "
   ]
  },
  {
   "cell_type": "markdown",
   "metadata": {},
   "source": [
    "### Preparing data for feature engineering"
   ]
  },
  {
   "cell_type": "markdown",
   "metadata": {},
   "source": [
    "In addition to the descriptive, user and event data, 'time' related data such as the # of events for each user, how long their sessions were and how long a user has been a member / subscriber to Sparkify will also be explored as features.\n",
    "\n",
    "The idea behind this is that a user's behavior or probability to churn would have to be explored over a period of time. This is why it is good to include 'time' related data."
   ]
  },
  {
   "cell_type": "markdown",
   "metadata": {},
   "source": [
    "#### Events and Sessions\n",
    "* Count of events per session"
   ]
  },
  {
   "cell_type": "code",
   "execution_count": 31,
   "metadata": {},
   "outputs": [],
   "source": [
    "df_events_per_session = (df_full.select(['userId',\n",
    "                                     'gender',\n",
    "                                     'length',\n",
    "                                     'level',\n",
    "                                     'page',\n",
    "                                     'sessionId',\n",
    "                                     'downgrade',\n",
    "                                     'registration_time'])\n",
    "                                 .groupby(\"userId\")\n",
    "                                 .agg(count(\"sessionId\").alias(\"events_per_user\"),\n",
    "                                      first('gender').alias(\"gender\"), \n",
    "                                      first('level').alias(\"level\"),\n",
    "                                      countDistinct(\"sessionId\").alias(\"sessions_per_user\")))"
   ]
  },
  {
   "cell_type": "code",
   "execution_count": 32,
   "metadata": {},
   "outputs": [],
   "source": [
    "df_events_per_session = (df_events_per_session.withColumn(\"events_per_session\",(func.col('events_per_user')/func.col('sessions_per_user')))\n",
    "                                             .drop(\"events_per_user\")\n",
    "                                             .drop(\"sessions_per_user\"))"
   ]
  },
  {
   "cell_type": "markdown",
   "metadata": {},
   "source": [
    "#### Roll Adverts\n",
    "* Count of roll adverts seen by a user\n",
    "* Based on the event data analysis, churn users seem to have more roll adverts"
   ]
  },
  {
   "cell_type": "code",
   "execution_count": 33,
   "metadata": {},
   "outputs": [],
   "source": [
    "# Get roll adverts per user\n",
    "roll_adverts_per_user = (df_full.filter(df_full['page']=='Roll Advert')\n",
    "                               .groupby(\"userId\").count()\n",
    "                               .withColumn(\"roll_adverts_per_user\",col(\"count\"))\n",
    "                               .drop(\"count\"))"
   ]
  },
  {
   "cell_type": "code",
   "execution_count": 34,
   "metadata": {},
   "outputs": [
    {
     "name": "stdout",
     "output_type": "stream",
     "text": [
      "+------+---------------------+\n",
      "|userId|roll_adverts_per_user|\n",
      "+------+---------------------+\n",
      "|   296|                    9|\n",
      "|100010|                   22|\n",
      "|200002|                   11|\n",
      "|   125|                    6|\n",
      "|     7|                   35|\n",
      "+------+---------------------+\n",
      "only showing top 5 rows\n",
      "\n"
     ]
    }
   ],
   "source": [
    "roll_adverts_per_user.show(5)"
   ]
  },
  {
   "cell_type": "markdown",
   "metadata": {},
   "source": [
    "#### Session Length\n",
    "* Total usage of service\n",
    "* The idea is to see if a user who uses the service less would be more likely to churn"
   ]
  },
  {
   "cell_type": "code",
   "execution_count": 35,
   "metadata": {},
   "outputs": [],
   "source": [
    "# Calculate average length per session\n",
    "total_length_per_user = (df_full.select(['userId','length'])\n",
    "                               .groupBy(\"userId\").sum()\n",
    "                               .withColumn(\"total_length_per_user\",col(\"sum(length)\"))\n",
    "                               .drop(\"sum(length)\"))"
   ]
  },
  {
   "cell_type": "code",
   "execution_count": 36,
   "metadata": {},
   "outputs": [
    {
     "name": "stdout",
     "output_type": "stream",
     "text": [
      "+------+---------------------+\n",
      "|userId|total_length_per_user|\n",
      "+------+---------------------+\n",
      "|   296|   28314.150059999996|\n",
      "|100010|   25870.950739999997|\n",
      "|200002|    78695.82683999998|\n",
      "|   125|          15813.77107|\n",
      "|    51|    66817.21162999999|\n",
      "+------+---------------------+\n",
      "only showing top 5 rows\n",
      "\n"
     ]
    }
   ],
   "source": [
    "total_length_per_user.show(5)"
   ]
  },
  {
   "cell_type": "markdown",
   "metadata": {},
   "source": [
    "#### Thumbs Up vs Thumbs Down\n",
    "* Comparison of Thumbs Up vs Thumbs Down\n",
    "* In general, a 'Thumbs Down' would indicate disastifaction\n",
    "* The idea is that if there are more 'Thumbs Down', would that lead to churn?\n",
    "* Based on the event data analysis, churn users seem to have more Thumbs Down\n",
    "* Given that not every user may do a Thumbs Up or Thumbs Down, an attempt was made to be creative and create a Thumbs Up and Thumbs Down ratio"
   ]
  },
  {
   "cell_type": "code",
   "execution_count": 37,
   "metadata": {},
   "outputs": [],
   "source": [
    "# Num of Thumbs Down per user\n",
    "thumbs_down_per_user = (df_full.filter(df_full['page']=='Thumbs Down')\n",
    "                              .groupby(\"userId\").count()\n",
    "                              .withColumn(\"thumbs_down_per_user\",col(\"count\"))\n",
    "                              .drop(\"count\"))"
   ]
  },
  {
   "cell_type": "code",
   "execution_count": 38,
   "metadata": {},
   "outputs": [],
   "source": [
    "# Num of Thumbs Up per user\n",
    "thumbs_up_per_user = (df_full.filter(df_full['page']=='Thumbs Up')\n",
    "                            .groupby(\"userId\").count()\n",
    "                            .withColumn(\"thumbs_up_per_user\",col(\"count\")).drop(\"count\"))"
   ]
  },
  {
   "cell_type": "code",
   "execution_count": 39,
   "metadata": {},
   "outputs": [],
   "source": [
    "# Merge events / sessions and thumbs actions data\n",
    "thumbs_actions = (thumbs_down_per_user.join(thumbs_up_per_user, on=['userId'], how='left')\n",
    "                                     .withColumn(\"thumbs_actions_total\",(func.col('thumbs_down_per_user') + func.col('thumbs_up_per_user')))\n",
    "                                     .withColumn(\"thumbs_down_ratio\",(func.col('thumbs_down_per_user')/func.col('thumbs_actions_total')))\n",
    "                                     .withColumn(\"thumbs_up_ratio\",(func.col('thumbs_up_per_user')/func.col('thumbs_actions_total')))\n",
    "                                     .drop(\"thumbs_down_per_user\")\n",
    "                                     .drop(\"thumbs_up_per_user\")\n",
    "                                     .drop(\"thumbs_actions_total\"))"
   ]
  },
  {
   "cell_type": "code",
   "execution_count": 40,
   "metadata": {},
   "outputs": [
    {
     "name": "stdout",
     "output_type": "stream",
     "text": [
      "+------+--------------------+------------------+\n",
      "|userId|   thumbs_down_ratio|   thumbs_up_ratio|\n",
      "+------+--------------------+------------------+\n",
      "|100010| 0.42857142857142855|0.5714285714285714|\n",
      "|200002|                0.25|              0.75|\n",
      "|   125|                0.25|              0.75|\n",
      "|   124|  0.1282051282051282|0.8717948717948718|\n",
      "|    51|0.058823529411764705|0.9411764705882353|\n",
      "+------+--------------------+------------------+\n",
      "only showing top 5 rows\n",
      "\n"
     ]
    }
   ],
   "source": [
    "thumbs_actions.show(5)"
   ]
  },
  {
   "cell_type": "markdown",
   "metadata": {},
   "source": [
    "#### Downgrade\n",
    "* Comparison of Downgrade events\n",
    "* Based on the event data analysis, churn users seem to have more Downgrade events"
   ]
  },
  {
   "cell_type": "code",
   "execution_count": 41,
   "metadata": {},
   "outputs": [],
   "source": [
    "# Calculate average length per session\n",
    "downgrade_per_user = (df_full.filter(df_full['page']=='Downgrade')\n",
    "                            .groupby(\"userId\").count().withColumn(\"downgrade_per_user\",col(\"count\")).drop(\"count\"))"
   ]
  },
  {
   "cell_type": "code",
   "execution_count": 42,
   "metadata": {},
   "outputs": [
    {
     "name": "stdout",
     "output_type": "stream",
     "text": [
      "+------+------------------+\n",
      "|userId|downgrade_per_user|\n",
      "+------+------------------+\n",
      "|   296|                 1|\n",
      "|200002|                 3|\n",
      "|    51|                 4|\n",
      "|   124|                21|\n",
      "|   205|                10|\n",
      "+------+------------------+\n",
      "only showing top 5 rows\n",
      "\n"
     ]
    }
   ],
   "source": [
    "downgrade_per_user.show(5)"
   ]
  },
  {
   "cell_type": "markdown",
   "metadata": {},
   "source": [
    "#### Next Song (Songs played)\n",
    "* Comparison of songs played\n",
    "* Based on the event data analysis, churn users seem to play less songs"
   ]
  },
  {
   "cell_type": "code",
   "execution_count": 43,
   "metadata": {},
   "outputs": [],
   "source": [
    "# Calculate average length per session\n",
    "next_song_per_user = df_full.filter(df_full['page']=='NextSong').groupby(\"userId\").count().withColumn(\"next_song_per_user\",col(\"count\")).drop(\"count\")"
   ]
  },
  {
   "cell_type": "code",
   "execution_count": 44,
   "metadata": {},
   "outputs": [
    {
     "name": "stdout",
     "output_type": "stream",
     "text": [
      "+------+------------------+\n",
      "|userId|next_song_per_user|\n",
      "+------+------------------+\n",
      "|   296|               112|\n",
      "|100010|                96|\n",
      "|200002|               310|\n",
      "|   125|                62|\n",
      "|    51|               266|\n",
      "+------+------------------+\n",
      "only showing top 5 rows\n",
      "\n"
     ]
    }
   ],
   "source": [
    "next_song_per_user.show(5)"
   ]
  },
  {
   "cell_type": "markdown",
   "metadata": {},
   "source": [
    "#### Duration as a user\n",
    "* To see if a user's duration on the platform has any impact on churn"
   ]
  },
  {
   "cell_type": "code",
   "execution_count": 45,
   "metadata": {},
   "outputs": [],
   "source": [
    "user_member_duration = df_full.select(['userId','event_time','registration_time']).withColumn('member_duration', ((func.unix_timestamp(df_full['event_time']) - func.unix_timestamp(df_full['registration_time']))/3600)/24).groupby(\"userId\").max().withColumn(\"member_duration\",col(\"max(member_duration)\")).drop(\"max(member_duration)\")"
   ]
  },
  {
   "cell_type": "code",
   "execution_count": 46,
   "metadata": {},
   "outputs": [
    {
     "name": "stdout",
     "output_type": "stream",
     "text": [
      "+------+------------------+\n",
      "|userId|   member_duration|\n",
      "+------+------------------+\n",
      "|   296| 26.63826388888889|\n",
      "|100010|14.328449074074074|\n",
      "|200002| 53.32314814814814|\n",
      "|   125|105.42211805555554|\n",
      "|    51| 18.84582175925926|\n",
      "+------+------------------+\n",
      "only showing top 5 rows\n",
      "\n"
     ]
    }
   ],
   "source": [
    "user_member_duration.show(5)"
   ]
  },
  {
   "cell_type": "markdown",
   "metadata": {},
   "source": [
    "#### Add to Playlist\n",
    "* Comparison of user usage of 'Add to Playlist'\n",
    "* Based on the event data analysis, churn users seem to use the 'Add to Playlist' less which could indicate less usage / engagement"
   ]
  },
  {
   "cell_type": "code",
   "execution_count": 47,
   "metadata": {},
   "outputs": [],
   "source": [
    "added_to_playlist_per_user = df_full.filter(df_full['page']=='Add to Playlist').groupby(\"userId\").count().withColumn(\"added_to_playlist_per_user\",col(\"count\")).drop(\"count\")"
   ]
  },
  {
   "cell_type": "code",
   "execution_count": 48,
   "metadata": {},
   "outputs": [
    {
     "name": "stdout",
     "output_type": "stream",
     "text": [
      "+------+--------------------------+\n",
      "|userId|added_to_playlist_per_user|\n",
      "+------+--------------------------+\n",
      "|   296|                         3|\n",
      "|100010|                         1|\n",
      "|200002|                         6|\n",
      "|   125|                         2|\n",
      "|    51|                         8|\n",
      "+------+--------------------------+\n",
      "only showing top 5 rows\n",
      "\n"
     ]
    }
   ],
   "source": [
    "added_to_playlist_per_user.show(5)"
   ]
  },
  {
   "cell_type": "markdown",
   "metadata": {},
   "source": [
    "#### Add Friend\n",
    "* Comparison of user usage of 'Add to Friend'\n",
    "* Based on the event data analysis, churn users seem to use the 'Add Friend' less which could indicate a lower willingness to share with friends which could infer they aren't enjoying the service as much"
   ]
  },
  {
   "cell_type": "code",
   "execution_count": 49,
   "metadata": {},
   "outputs": [],
   "source": [
    "add_friend_per_user = df_full.filter(df_full['page']=='Add Friend').groupby(\"userId\").count().withColumn(\"add_friend_per_user\",col(\"count\")).drop(\"count\")"
   ]
  },
  {
   "cell_type": "code",
   "execution_count": 50,
   "metadata": {},
   "outputs": [
    {
     "name": "stdout",
     "output_type": "stream",
     "text": [
      "+------+-------------------+\n",
      "|userId|add_friend_per_user|\n",
      "+------+-------------------+\n",
      "|   296|                  2|\n",
      "|100010|                  3|\n",
      "|200002|                  2|\n",
      "|   125|                  3|\n",
      "|   124|                 26|\n",
      "+------+-------------------+\n",
      "only showing top 5 rows\n",
      "\n"
     ]
    }
   ],
   "source": [
    "add_friend_per_user.show(5)"
   ]
  },
  {
   "cell_type": "markdown",
   "metadata": {},
   "source": [
    "#### Settings\n",
    "* Comparison of user click of 'settings'\n",
    "* Based on the event data analysis, churn users seem to click on 'Settings' more. It may not be a big factor but should not be ruled out based on the event data analysis"
   ]
  },
  {
   "cell_type": "code",
   "execution_count": 51,
   "metadata": {},
   "outputs": [],
   "source": [
    "settings_clicks_per_user = df_full.filter(df_full['page']=='Settings').groupby(\"userId\").count().withColumn(\"settings_clicks_per_user\",col(\"count\")).drop(\"count\")"
   ]
  },
  {
   "cell_type": "code",
   "execution_count": 52,
   "metadata": {},
   "outputs": [
    {
     "name": "stdout",
     "output_type": "stream",
     "text": [
      "+------+------------------------+\n",
      "|userId|settings_clicks_per_user|\n",
      "+------+------------------------+\n",
      "|   296|                       1|\n",
      "|200002|                       2|\n",
      "|   125|                       3|\n",
      "|    51|                       2|\n",
      "|   124|                      15|\n",
      "+------+------------------------+\n",
      "only showing top 5 rows\n",
      "\n"
     ]
    }
   ],
   "source": [
    "settings_clicks_per_user.show(5)"
   ]
  },
  {
   "cell_type": "markdown",
   "metadata": {},
   "source": [
    "#### Home\n",
    "* Comparison of user click of 'home'\n",
    "* Based on the event data analysis, churn users seem to click on 'home' more. It may not be a big factor but should not be ruled out based on the event data analysis"
   ]
  },
  {
   "cell_type": "code",
   "execution_count": 53,
   "metadata": {},
   "outputs": [],
   "source": [
    "home_clicks_per_user = df_full.filter(df_full['page']=='Home').groupby(\"userId\").count().withColumn(\"home_clicks_per_user\",col(\"count\")).drop(\"count\")"
   ]
  },
  {
   "cell_type": "code",
   "execution_count": 54,
   "metadata": {},
   "outputs": [
    {
     "name": "stdout",
     "output_type": "stream",
     "text": [
      "+------+--------------------+\n",
      "|userId|home_clicks_per_user|\n",
      "+------+--------------------+\n",
      "|   296|                   7|\n",
      "|100010|                   3|\n",
      "|200002|                  23|\n",
      "|   125|                   2|\n",
      "|    51|                  17|\n",
      "+------+--------------------+\n",
      "only showing top 5 rows\n",
      "\n"
     ]
    }
   ],
   "source": [
    "home_clicks_per_user.show(5)"
   ]
  },
  {
   "cell_type": "markdown",
   "metadata": {},
   "source": [
    "### Merge Data"
   ]
  },
  {
   "cell_type": "markdown",
   "metadata": {},
   "source": [
    "Merging data analyzed so far"
   ]
  },
  {
   "cell_type": "code",
   "execution_count": 55,
   "metadata": {},
   "outputs": [],
   "source": [
    "merged_df = (df_events_per_session.join(roll_adverts_per_user, on=['userId'], how='left')\n",
    "                                  .join(total_length_per_user, on=['userId'], how='left')\n",
    "                                  .join(thumbs_actions, on=['userId'], how='left')\n",
    "                                  .join(downgrade_per_user, on=['userId'], how='left')\n",
    "                                  .join(next_song_per_user, on=['userId'], how='left')\n",
    "                                  .join(user_member_duration, on=['userId'], how='left')\n",
    "                                  .join(added_to_playlist_per_user, on=['userId'], how='left')\n",
    "                                  .join(add_friend_per_user, on=['userId'], how='left')\n",
    "                                  .join(settings_clicks_per_user, on=['userId'], how='left')\n",
    "                                  .join(home_clicks_per_user, on=['userId'], how='left')\n",
    "                                  .withColumn('label', func.when(func.col('userId').isin(churn_users_ids_list), 1).otherwise(0))\n",
    "                                  .na.fill(0))"
   ]
  },
  {
   "cell_type": "markdown",
   "metadata": {},
   "source": [
    "#### Categorical columns and removing nulls\n",
    "* The comparison of the categorical columns of gender and level seem to indicate that these columns may have some bearing on a user to churn. For this reason, they will be converted to numerical values and included as features\n",
    "* Also, it is important to remove any null data as this would impact the modeling\n"
   ]
  },
  {
   "cell_type": "code",
   "execution_count": 56,
   "metadata": {},
   "outputs": [],
   "source": [
    "merged_df = merged_df.withColumn('male', func.when(func.col('gender') == 'M', 1).otherwise(0)).withColumn('female', func.when(func.col('gender') == 'F', 1).otherwise(0)).withColumn('free', func.when(func.col('level') == 'free', 1).otherwise(0)).withColumn('paid', func.when(func.col('level') == 'paid', 1).otherwise(0)).drop(\"gender\").drop(\"level\")"
   ]
  },
  {
   "cell_type": "markdown",
   "metadata": {},
   "source": [
    "#### Confirm count\n",
    "Confirm that the data is intact even after the merges"
   ]
  },
  {
   "cell_type": "code",
   "execution_count": 57,
   "metadata": {},
   "outputs": [
    {
     "name": "stdout",
     "output_type": "stream",
     "text": [
      "root\n",
      " |-- userId: string (nullable = true)\n",
      " |-- events_per_session: double (nullable = false)\n",
      " |-- roll_adverts_per_user: long (nullable = true)\n",
      " |-- total_length_per_user: double (nullable = false)\n",
      " |-- thumbs_down_ratio: double (nullable = false)\n",
      " |-- thumbs_up_ratio: double (nullable = false)\n",
      " |-- downgrade_per_user: long (nullable = true)\n",
      " |-- next_song_per_user: long (nullable = true)\n",
      " |-- member_duration: double (nullable = false)\n",
      " |-- added_to_playlist_per_user: long (nullable = true)\n",
      " |-- add_friend_per_user: long (nullable = true)\n",
      " |-- settings_clicks_per_user: long (nullable = true)\n",
      " |-- home_clicks_per_user: long (nullable = true)\n",
      " |-- label: integer (nullable = false)\n",
      " |-- male: integer (nullable = false)\n",
      " |-- female: integer (nullable = false)\n",
      " |-- free: integer (nullable = false)\n",
      " |-- paid: integer (nullable = false)\n",
      "\n"
     ]
    }
   ],
   "source": [
    "merged_df.printSchema()"
   ]
  },
  {
   "cell_type": "code",
   "execution_count": 58,
   "metadata": {},
   "outputs": [
    {
     "data": {
      "text/plain": [
       "448"
      ]
     },
     "execution_count": 58,
     "metadata": {},
     "output_type": "execute_result"
    }
   ],
   "source": [
    "merged_df.count()"
   ]
  },
  {
   "cell_type": "markdown",
   "metadata": {},
   "source": [
    "## Modeling"
   ]
  },
  {
   "cell_type": "markdown",
   "metadata": {},
   "source": [
    "In this section, the merged data will be prepared to be used as features that would be ran through 4 algorithms:\n",
    "* Logistic Regression\n",
    "* Gradient Boosted Trees\n",
    "* Decision Tree\n",
    "* Random Forest\n",
    "\n",
    "To evaluate each model, we will use Precision, Recall and F1 scores."
   ]
  },
  {
   "cell_type": "markdown",
   "metadata": {},
   "source": [
    "### Preparing feature data"
   ]
  },
  {
   "cell_type": "code",
   "execution_count": 59,
   "metadata": {},
   "outputs": [
    {
     "data": {
      "text/plain": [
       "['userId',\n",
       " 'events_per_session',\n",
       " 'roll_adverts_per_user',\n",
       " 'total_length_per_user',\n",
       " 'thumbs_down_ratio',\n",
       " 'thumbs_up_ratio',\n",
       " 'downgrade_per_user',\n",
       " 'next_song_per_user',\n",
       " 'member_duration',\n",
       " 'added_to_playlist_per_user',\n",
       " 'add_friend_per_user',\n",
       " 'settings_clicks_per_user',\n",
       " 'home_clicks_per_user',\n",
       " 'label',\n",
       " 'male',\n",
       " 'female',\n",
       " 'free',\n",
       " 'paid']"
      ]
     },
     "execution_count": 59,
     "metadata": {},
     "output_type": "execute_result"
    }
   ],
   "source": [
    "# Select columns to use as features\n",
    "merged_df.columns"
   ]
  },
  {
   "cell_type": "code",
   "execution_count": 60,
   "metadata": {},
   "outputs": [],
   "source": [
    "my_cols = merged_df.select(['events_per_session',\n",
    " 'roll_adverts_per_user',\n",
    " 'total_length_per_user',\n",
    " 'thumbs_down_ratio',\n",
    " 'thumbs_up_ratio',\n",
    " 'downgrade_per_user',\n",
    " 'next_song_per_user',\n",
    " 'member_duration',\n",
    " 'added_to_playlist_per_user',\n",
    " 'add_friend_per_user',\n",
    " 'settings_clicks_per_user',\n",
    " 'home_clicks_per_user',\n",
    " 'label',\n",
    " 'male',\n",
    " 'female',\n",
    " 'free',\n",
    " 'paid'])"
   ]
  },
  {
   "cell_type": "code",
   "execution_count": 61,
   "metadata": {},
   "outputs": [],
   "source": [
    "my_final_data = my_cols.na.drop()"
   ]
  },
  {
   "cell_type": "markdown",
   "metadata": {},
   "source": [
    "### Formatting feature data for modeling"
   ]
  },
  {
   "cell_type": "code",
   "execution_count": 62,
   "metadata": {},
   "outputs": [],
   "source": [
    "from pyspark.ml.feature import VectorAssembler,VectorIndexer, StandardScaler"
   ]
  },
  {
   "cell_type": "code",
   "execution_count": 63,
   "metadata": {},
   "outputs": [],
   "source": [
    "assembler = VectorAssembler(inputCols=['events_per_session',\n",
    " 'roll_adverts_per_user',\n",
    " 'total_length_per_user',\n",
    " 'thumbs_down_ratio',\n",
    " 'thumbs_up_ratio',\n",
    " 'downgrade_per_user',\n",
    " 'next_song_per_user',\n",
    " 'member_duration',\n",
    " 'added_to_playlist_per_user',\n",
    " 'add_friend_per_user',\n",
    " 'settings_clicks_per_user',\n",
    " 'home_clicks_per_user',\n",
    " 'male',\n",
    " 'female',\n",
    " 'free',\n",
    " 'paid'],outputCol='NumFeatures')"
   ]
  },
  {
   "cell_type": "code",
   "execution_count": 64,
   "metadata": {},
   "outputs": [],
   "source": [
    "data = assembler.transform(my_final_data)"
   ]
  },
  {
   "cell_type": "code",
   "execution_count": 65,
   "metadata": {},
   "outputs": [],
   "source": [
    "scaler = StandardScaler(inputCol=\"NumFeatures\", outputCol=\"features\", withStd=True)\n",
    "scalerModel = scaler.fit(data)\n",
    "data = scalerModel.transform(data)"
   ]
  },
  {
   "cell_type": "code",
   "execution_count": 66,
   "metadata": {},
   "outputs": [],
   "source": [
    "from pyspark.ml.classification import LogisticRegression, GBTClassifier, DecisionTreeClassifier, RandomForestClassifier\n",
    "from pyspark.ml.evaluation import MulticlassClassificationEvaluator, BinaryClassificationEvaluator\n",
    "from pyspark.ml.tuning import CrossValidator, ParamGridBuilder"
   ]
  },
  {
   "cell_type": "markdown",
   "metadata": {},
   "source": [
    "### Splitting data into train and test"
   ]
  },
  {
   "cell_type": "code",
   "execution_count": 67,
   "metadata": {},
   "outputs": [],
   "source": [
    "train, test = data.randomSplit([0.7,.3], seed=42)"
   ]
  },
  {
   "cell_type": "markdown",
   "metadata": {},
   "source": [
    "### Baseline Modeling\n",
    "To start, the features will be ran using models without much parameter tuning to establish a baseline"
   ]
  },
  {
   "cell_type": "markdown",
   "metadata": {},
   "source": [
    "#### Logistic Regression"
   ]
  },
  {
   "cell_type": "code",
   "execution_count": 68,
   "metadata": {},
   "outputs": [],
   "source": [
    "lr = LogisticRegression(maxIter=10)\n",
    "paramGrid = ParamGridBuilder() \\\n",
    "    .build()\n",
    "\n",
    "lr_crossval = CrossValidator(estimator=lr,\n",
    "                          estimatorParamMaps=paramGrid,\n",
    "                          evaluator=MulticlassClassificationEvaluator(),\n",
    "                          numFolds=3)"
   ]
  },
  {
   "cell_type": "code",
   "execution_count": 69,
   "metadata": {},
   "outputs": [],
   "source": [
    "lr_start = time()\n",
    "lr_cvModel = lr_crossval.fit(train)\n",
    "lr_end = time()"
   ]
  },
  {
   "cell_type": "code",
   "execution_count": 70,
   "metadata": {},
   "outputs": [
    {
     "name": "stdout",
     "output_type": "stream",
     "text": [
      "lr_cvModel training duration: 1680.3615746498108 s\n"
     ]
    }
   ],
   "source": [
    "print('lr_cvModel training duration: {} s'.format(lr_end - lr_start))"
   ]
  },
  {
   "cell_type": "code",
   "execution_count": 71,
   "metadata": {},
   "outputs": [
    {
     "name": "stdout",
     "output_type": "stream",
     "text": [
      "+-----+----------+\n",
      "|label|prediction|\n",
      "+-----+----------+\n",
      "|    1|       1.0|\n",
      "|    1|       0.0|\n",
      "|    1|       0.0|\n",
      "|    1|       0.0|\n",
      "|    0|       1.0|\n",
      "|    1|       0.0|\n",
      "|    0|       0.0|\n",
      "|    0|       0.0|\n",
      "|    1|       0.0|\n",
      "|    0|       0.0|\n",
      "|    0|       0.0|\n",
      "|    0|       0.0|\n",
      "|    0|       0.0|\n",
      "|    0|       1.0|\n",
      "|    0|       0.0|\n",
      "|    0|       0.0|\n",
      "|    1|       0.0|\n",
      "|    1|       0.0|\n",
      "|    0|       0.0|\n",
      "|    1|       1.0|\n",
      "+-----+----------+\n",
      "only showing top 20 rows\n",
      "\n"
     ]
    }
   ],
   "source": [
    "lr_results = lr_cvModel.transform(test)\n",
    "lr_results.select('label','prediction').show()"
   ]
  },
  {
   "cell_type": "code",
   "execution_count": 72,
   "metadata": {},
   "outputs": [
    {
     "name": "stdout",
     "output_type": "stream",
     "text": [
      "lr_precision: 0.2631578947368421 \n",
      "lr_recall: 0.17857142857142858 \n",
      "lr_f1: 0.2127659574468085 \n"
     ]
    }
   ],
   "source": [
    "lr_true_positive = lr_results.filter(\"label = 1 and prediction = 1\").count()\n",
    "lr_false_positive = lr_results.filter(\"label = 0 and prediction = 1\").count()\n",
    "lr_false_negative = lr_results.filter(\"label = 1 and prediction = 0\").count()\n",
    "lr_precision = lr_true_positive / (lr_true_positive + lr_false_positive) \n",
    "lr_recall = lr_true_positive / (lr_true_positive + lr_false_negative)\n",
    "lr_f1 = 2 * lr_precision * lr_recall / (lr_precision + lr_recall)\n",
    "print('lr_precision: {} '.format(lr_precision))\n",
    "print('lr_recall: {} '.format(lr_recall))\n",
    "print('lr_f1: {} '.format(lr_f1))"
   ]
  },
  {
   "cell_type": "markdown",
   "metadata": {},
   "source": [
    "#### Gradient Boosted Trees"
   ]
  },
  {
   "cell_type": "code",
   "execution_count": 73,
   "metadata": {},
   "outputs": [],
   "source": [
    "gb = GBTClassifier(maxIter=10,seed=42)\n",
    "paramGrid = ParamGridBuilder() \\\n",
    "    .build()\n",
    "\n",
    "gb_crossval = CrossValidator(estimator=gb,\n",
    "                          estimatorParamMaps=paramGrid,\n",
    "                          evaluator=MulticlassClassificationEvaluator(),\n",
    "                          numFolds=3)"
   ]
  },
  {
   "cell_type": "code",
   "execution_count": 74,
   "metadata": {},
   "outputs": [],
   "source": [
    "gb_start = time()\n",
    "gb_cvModel = gb_crossval.fit(train)\n",
    "gb_end = time()"
   ]
  },
  {
   "cell_type": "code",
   "execution_count": 75,
   "metadata": {},
   "outputs": [
    {
     "name": "stdout",
     "output_type": "stream",
     "text": [
      "gb_cvModel training duration: 1819.2531371116638 s\n"
     ]
    }
   ],
   "source": [
    "print('gb_cvModel training duration: {} s'.format(gb_end - gb_start))"
   ]
  },
  {
   "cell_type": "code",
   "execution_count": 76,
   "metadata": {},
   "outputs": [
    {
     "name": "stdout",
     "output_type": "stream",
     "text": [
      "+-----+----------+\n",
      "|label|prediction|\n",
      "+-----+----------+\n",
      "|    1|       1.0|\n",
      "|    1|       0.0|\n",
      "|    1|       1.0|\n",
      "|    1|       0.0|\n",
      "|    0|       1.0|\n",
      "|    1|       1.0|\n",
      "|    0|       0.0|\n",
      "|    0|       1.0|\n",
      "|    1|       1.0|\n",
      "|    0|       0.0|\n",
      "|    0|       0.0|\n",
      "|    0|       0.0|\n",
      "|    0|       0.0|\n",
      "|    0|       0.0|\n",
      "|    0|       0.0|\n",
      "|    0|       1.0|\n",
      "|    1|       0.0|\n",
      "|    1|       0.0|\n",
      "|    0|       0.0|\n",
      "|    1|       0.0|\n",
      "+-----+----------+\n",
      "only showing top 20 rows\n",
      "\n"
     ]
    }
   ],
   "source": [
    "gb_results = gb_cvModel.transform(test)\n",
    "gb_results.select('label','prediction').show()"
   ]
  },
  {
   "cell_type": "code",
   "execution_count": 77,
   "metadata": {},
   "outputs": [
    {
     "name": "stdout",
     "output_type": "stream",
     "text": [
      "gb_precision: 0.3076923076923077 \n",
      "gb_recall: 0.14285714285714285 \n",
      "gb_f1: 0.1951219512195122 \n"
     ]
    }
   ],
   "source": [
    "gb_true_positive = gb_results.filter(\"label = 1 and prediction = 1\").count()\n",
    "gb_false_positive = gb_results.filter(\"label = 0 and prediction = 1\").count()\n",
    "gb_false_negative = gb_results.filter(\"label = 1 and prediction = 0\").count()\n",
    "gb_precision = gb_true_positive / (gb_true_positive + gb_false_positive) \n",
    "gb_recall = gb_true_positive / (gb_true_positive + gb_false_negative)\n",
    "gb_f1 = 2 * gb_precision * gb_recall / (gb_precision + gb_recall)\n",
    "print('gb_precision: {} '.format(gb_precision))\n",
    "print('gb_recall: {} '.format(gb_recall))\n",
    "print('gb_f1: {} '.format(gb_f1))"
   ]
  },
  {
   "cell_type": "markdown",
   "metadata": {},
   "source": [
    "#### Decision Tree"
   ]
  },
  {
   "cell_type": "code",
   "execution_count": 78,
   "metadata": {},
   "outputs": [],
   "source": [
    "dt = DecisionTreeClassifier()\n",
    "paramGrid = ParamGridBuilder() \\\n",
    "    .build()\n",
    "dt_crossval = CrossValidator(estimator=dt,\n",
    "                          estimatorParamMaps=paramGrid,\n",
    "                          evaluator=MulticlassClassificationEvaluator(),\n",
    "                          numFolds=3)"
   ]
  },
  {
   "cell_type": "code",
   "execution_count": 79,
   "metadata": {},
   "outputs": [],
   "source": [
    "dt_start = time()\n",
    "dt_cvModel = dt_crossval.fit(train)\n",
    "dt_end = time()"
   ]
  },
  {
   "cell_type": "code",
   "execution_count": 80,
   "metadata": {},
   "outputs": [
    {
     "name": "stdout",
     "output_type": "stream",
     "text": [
      "dt_cvModel training duration: 1471.547533273697 s\n"
     ]
    }
   ],
   "source": [
    "print('dt_cvModel training duration: {} s'.format(dt_end - dt_start))"
   ]
  },
  {
   "cell_type": "code",
   "execution_count": 81,
   "metadata": {},
   "outputs": [
    {
     "name": "stdout",
     "output_type": "stream",
     "text": [
      "+-----+----------+\n",
      "|label|prediction|\n",
      "+-----+----------+\n",
      "|    1|       1.0|\n",
      "|    1|       0.0|\n",
      "|    1|       1.0|\n",
      "|    1|       0.0|\n",
      "|    0|       1.0|\n",
      "|    1|       1.0|\n",
      "|    0|       0.0|\n",
      "|    0|       1.0|\n",
      "|    1|       1.0|\n",
      "|    0|       0.0|\n",
      "|    0|       0.0|\n",
      "|    0|       0.0|\n",
      "|    0|       0.0|\n",
      "|    0|       0.0|\n",
      "|    0|       0.0|\n",
      "|    0|       1.0|\n",
      "|    1|       0.0|\n",
      "|    1|       0.0|\n",
      "|    0|       0.0|\n",
      "|    1|       0.0|\n",
      "+-----+----------+\n",
      "only showing top 20 rows\n",
      "\n"
     ]
    }
   ],
   "source": [
    "dt_results = dt_cvModel.transform(test)\n",
    "dt_results.select('label','prediction').show()"
   ]
  },
  {
   "cell_type": "code",
   "execution_count": 82,
   "metadata": {},
   "outputs": [
    {
     "name": "stdout",
     "output_type": "stream",
     "text": [
      "dt_precision: 0.3125 \n",
      "dt_recall: 0.17857142857142858 \n",
      "dt_f1: 0.22727272727272727 \n"
     ]
    }
   ],
   "source": [
    "dt_true_positive = dt_results.filter(\"label = 1 and prediction = 1\").count()\n",
    "dt_false_positive = dt_results.filter(\"label = 0 and prediction = 1\").count()\n",
    "dt_false_negative = dt_results.filter(\"label = 1 and prediction = 0\").count()\n",
    "dt_precision = dt_true_positive / (dt_true_positive + dt_false_positive) \n",
    "dt_recall = dt_true_positive / (dt_true_positive + dt_false_negative)\n",
    "dt_f1 = 2 * dt_precision * dt_recall / (dt_precision + dt_recall)\n",
    "print('dt_precision: {} '.format(dt_precision))\n",
    "print('dt_recall: {} '.format(dt_recall))\n",
    "print('dt_f1: {} '.format(dt_f1))"
   ]
  },
  {
   "cell_type": "markdown",
   "metadata": {},
   "source": [
    "#### Random Forest"
   ]
  },
  {
   "cell_type": "code",
   "execution_count": 83,
   "metadata": {},
   "outputs": [],
   "source": [
    "rf = RandomForestClassifier()\n",
    "paramGrid = ParamGridBuilder() \\\n",
    "    .build()\n",
    "rf_crossval = CrossValidator(estimator=rf,\n",
    "                          estimatorParamMaps=paramGrid,\n",
    "                          evaluator=MulticlassClassificationEvaluator(),\n",
    "                          numFolds=3)"
   ]
  },
  {
   "cell_type": "code",
   "execution_count": 84,
   "metadata": {},
   "outputs": [],
   "source": [
    "rf_start = time()\n",
    "rf_cvModel = rf_crossval.fit(train)\n",
    "rf_end = time()"
   ]
  },
  {
   "cell_type": "code",
   "execution_count": 85,
   "metadata": {},
   "outputs": [
    {
     "name": "stdout",
     "output_type": "stream",
     "text": [
      "rf_cvModel training duration: 1527.0604712963104 s\n"
     ]
    }
   ],
   "source": [
    "print('rf_cvModel training duration: {} s'.format(rf_end - rf_start))"
   ]
  },
  {
   "cell_type": "code",
   "execution_count": 86,
   "metadata": {},
   "outputs": [
    {
     "name": "stdout",
     "output_type": "stream",
     "text": [
      "+-----+----------+\n",
      "|label|prediction|\n",
      "+-----+----------+\n",
      "|    1|       1.0|\n",
      "|    1|       0.0|\n",
      "|    1|       1.0|\n",
      "|    1|       0.0|\n",
      "|    0|       1.0|\n",
      "|    1|       1.0|\n",
      "|    0|       0.0|\n",
      "|    0|       0.0|\n",
      "|    1|       1.0|\n",
      "|    0|       0.0|\n",
      "|    0|       0.0|\n",
      "|    0|       0.0|\n",
      "|    0|       0.0|\n",
      "|    0|       0.0|\n",
      "|    0|       0.0|\n",
      "|    0|       0.0|\n",
      "|    1|       0.0|\n",
      "|    1|       0.0|\n",
      "|    0|       0.0|\n",
      "|    1|       1.0|\n",
      "+-----+----------+\n",
      "only showing top 20 rows\n",
      "\n"
     ]
    }
   ],
   "source": [
    "rf_results = rf_cvModel.transform(test)\n",
    "rf_results.select('label','prediction').show()"
   ]
  },
  {
   "cell_type": "code",
   "execution_count": 87,
   "metadata": {},
   "outputs": [
    {
     "name": "stdout",
     "output_type": "stream",
     "text": [
      "rf_precision: 0.6666666666666666 \n",
      "rf_recall: 0.21428571428571427 \n",
      "rf_f1: 0.3243243243243243 \n"
     ]
    }
   ],
   "source": [
    "rf_true_positive = rf_results.filter(\"label = 1 and prediction = 1\").count()\n",
    "rf_false_positive = rf_results.filter(\"label = 0 and prediction = 1\").count()\n",
    "rf_false_negative = rf_results.filter(\"label = 1 and prediction = 0\").count()\n",
    "rf_precision = rf_true_positive / (rf_true_positive + rf_false_positive) \n",
    "rf_recall = rf_true_positive / (rf_true_positive + rf_false_negative)\n",
    "rf_f1 = 2 * rf_precision * rf_recall / (rf_precision + rf_recall)\n",
    "print('rf_precision: {} '.format(rf_precision))\n",
    "print('rf_recall: {} '.format(rf_recall))\n",
    "print('rf_f1: {} '.format(rf_f1))"
   ]
  },
  {
   "cell_type": "markdown",
   "metadata": {},
   "source": [
    "### Modeling with parameter tuning\n",
    "Running models with parameter tuning for comparison"
   ]
  },
  {
   "cell_type": "markdown",
   "metadata": {},
   "source": [
    "#### Logistic Regression"
   ]
  },
  {
   "cell_type": "code",
   "execution_count": 88,
   "metadata": {},
   "outputs": [],
   "source": [
    "lr_p = LogisticRegression(maxIter=10)\n",
    "paramGrid_p = ParamGridBuilder() \\\n",
    "    .addGrid(lr_p.elasticNetParam,[0.0, 0.5, 1.0]) \\\n",
    "    .addGrid(lr_p.regParam,[0.0, 0.075, 0.125]) \\\n",
    "    .build()\n",
    "\n",
    "lr_crossval_p = CrossValidator(estimator=lr_p,\n",
    "                          estimatorParamMaps=paramGrid_p,\n",
    "                          evaluator=MulticlassClassificationEvaluator(),\n",
    "                          numFolds=3)"
   ]
  },
  {
   "cell_type": "code",
   "execution_count": 89,
   "metadata": {},
   "outputs": [],
   "source": [
    "lr_start_p = time()\n",
    "lr_cvModel_p = lr_crossval_p.fit(train)\n",
    "lr_end_p = time()"
   ]
  },
  {
   "cell_type": "code",
   "execution_count": 90,
   "metadata": {},
   "outputs": [
    {
     "name": "stdout",
     "output_type": "stream",
     "text": [
      "lr_cvModel_p training duration: 1848.4574329853058 s\n"
     ]
    }
   ],
   "source": [
    "print('lr_cvModel_p training duration: {} s'.format(lr_end_p - lr_start_p))"
   ]
  },
  {
   "cell_type": "code",
   "execution_count": 91,
   "metadata": {},
   "outputs": [
    {
     "name": "stdout",
     "output_type": "stream",
     "text": [
      "+-----+----------+\n",
      "|label|prediction|\n",
      "+-----+----------+\n",
      "|    1|       1.0|\n",
      "|    1|       0.0|\n",
      "|    1|       0.0|\n",
      "|    1|       0.0|\n",
      "|    0|       1.0|\n",
      "|    1|       0.0|\n",
      "|    0|       0.0|\n",
      "|    0|       0.0|\n",
      "|    1|       0.0|\n",
      "|    0|       0.0|\n",
      "|    0|       0.0|\n",
      "|    0|       0.0|\n",
      "|    0|       0.0|\n",
      "|    0|       1.0|\n",
      "|    0|       0.0|\n",
      "|    0|       0.0|\n",
      "|    1|       0.0|\n",
      "|    1|       0.0|\n",
      "|    0|       0.0|\n",
      "|    1|       1.0|\n",
      "+-----+----------+\n",
      "only showing top 20 rows\n",
      "\n"
     ]
    }
   ],
   "source": [
    "lr_results_p = lr_cvModel_p.transform(test)\n",
    "lr_results_p.select('label','prediction').show()"
   ]
  },
  {
   "cell_type": "code",
   "execution_count": 92,
   "metadata": {},
   "outputs": [
    {
     "name": "stdout",
     "output_type": "stream",
     "text": [
      "lr_precision_p: 0.2631578947368421 \n",
      "lr_recall_p: 0.17857142857142858 \n",
      "lr_f1_p: 0.2127659574468085 \n"
     ]
    }
   ],
   "source": [
    "lr_true_positive_p = lr_results_p.filter(\"label = 1 and prediction = 1\").count()\n",
    "lr_false_positive_p = lr_results_p.filter(\"label = 0 and prediction = 1\").count()\n",
    "lr_false_negative_p = lr_results_p.filter(\"label = 1 and prediction = 0\").count()\n",
    "lr_precision_p = lr_true_positive_p / (lr_true_positive_p + lr_false_positive_p) \n",
    "lr_recall_p = lr_true_positive_p / (lr_true_positive_p + lr_false_negative_p)\n",
    "lr_f1_p = 2 * lr_precision_p * lr_recall_p / (lr_precision_p + lr_recall_p)\n",
    "print('lr_precision_p: {} '.format(lr_precision_p))\n",
    "print('lr_recall_p: {} '.format(lr_recall_p))\n",
    "print('lr_f1_p: {} '.format(lr_f1_p))"
   ]
  },
  {
   "cell_type": "markdown",
   "metadata": {},
   "source": [
    "#### Gradient Boosted Trees"
   ]
  },
  {
   "cell_type": "code",
   "execution_count": 93,
   "metadata": {},
   "outputs": [],
   "source": [
    "gb_p = GBTClassifier(maxIter=10,seed=42)\n",
    "paramGrid_p = ParamGridBuilder() \\\n",
    "    .addGrid(gb_p.maxIter,[10, 20]) \\\n",
    "    .addGrid(gb_p.maxBins, [20, 60]) \\\n",
    "    .addGrid(gb_p.maxDepth,[2, 4, 6]) \\\n",
    "    .build()\n",
    "\n",
    "gb_crossval_p = CrossValidator(estimator=gb_p,\n",
    "                          estimatorParamMaps=paramGrid_p,\n",
    "                          evaluator=MulticlassClassificationEvaluator(),\n",
    "                          numFolds=3)"
   ]
  },
  {
   "cell_type": "code",
   "execution_count": 94,
   "metadata": {},
   "outputs": [],
   "source": [
    "gb_start_p = time()\n",
    "gb_cvModel_p = gb_crossval_p.fit(train)\n",
    "gb_end_p = time()"
   ]
  },
  {
   "cell_type": "code",
   "execution_count": 95,
   "metadata": {},
   "outputs": [
    {
     "name": "stdout",
     "output_type": "stream",
     "text": [
      "gb_cvModel_p training duration: 7189.073091506958 s\n"
     ]
    }
   ],
   "source": [
    "print('gb_cvModel_p training duration: {} s'.format(gb_end_p - gb_start_p))"
   ]
  },
  {
   "cell_type": "code",
   "execution_count": 96,
   "metadata": {},
   "outputs": [
    {
     "name": "stdout",
     "output_type": "stream",
     "text": [
      "+-----+----------+\n",
      "|label|prediction|\n",
      "+-----+----------+\n",
      "|    1|       1.0|\n",
      "|    1|       0.0|\n",
      "|    1|       1.0|\n",
      "|    1|       0.0|\n",
      "|    0|       1.0|\n",
      "|    1|       0.0|\n",
      "|    0|       0.0|\n",
      "|    0|       1.0|\n",
      "|    1|       1.0|\n",
      "|    0|       0.0|\n",
      "|    0|       0.0|\n",
      "|    0|       0.0|\n",
      "|    0|       0.0|\n",
      "|    0|       0.0|\n",
      "|    0|       0.0|\n",
      "|    0|       0.0|\n",
      "|    1|       0.0|\n",
      "|    1|       0.0|\n",
      "|    0|       0.0|\n",
      "|    1|       1.0|\n",
      "+-----+----------+\n",
      "only showing top 20 rows\n",
      "\n"
     ]
    }
   ],
   "source": [
    "gb_results_p = gb_cvModel_p.transform(test)\n",
    "gb_results_p.select('label','prediction').show()"
   ]
  },
  {
   "cell_type": "code",
   "execution_count": 97,
   "metadata": {},
   "outputs": [
    {
     "name": "stdout",
     "output_type": "stream",
     "text": [
      "gb_precision_p: 0.4444444444444444 \n",
      "gb_recall_p: 0.14285714285714285 \n",
      "gb_f1_p: 0.21621621621621623 \n"
     ]
    }
   ],
   "source": [
    "gb_true_positive_p = gb_results_p.filter(\"label = 1 and prediction = 1\").count()\n",
    "gb_false_positive_p = gb_results_p.filter(\"label = 0 and prediction = 1\").count()\n",
    "gb_false_negative_p = gb_results_p.filter(\"label = 1 and prediction = 0\").count()\n",
    "gb_precision_p = gb_true_positive_p / (gb_true_positive_p + gb_false_positive_p) \n",
    "gb_recall_p = gb_true_positive_p / (gb_true_positive_p + gb_false_negative_p)\n",
    "gb_f1_p = 2 * gb_precision_p * gb_recall_p / (gb_precision_p + gb_recall_p)\n",
    "print('gb_precision_p: {} '.format(gb_precision_p))\n",
    "print('gb_recall_p: {} '.format(gb_recall_p))\n",
    "print('gb_f1_p: {} '.format(gb_f1_p))"
   ]
  },
  {
   "cell_type": "markdown",
   "metadata": {},
   "source": [
    "#### Decision Tree"
   ]
  },
  {
   "cell_type": "code",
   "execution_count": 98,
   "metadata": {},
   "outputs": [],
   "source": [
    "dt_p = DecisionTreeClassifier()\n",
    "paramGrid_p = ParamGridBuilder() \\\n",
    "    .addGrid(dt_p.impurity,['entropy', 'gini']) \\\n",
    "    .addGrid(dt_p.maxDepth, [2, 5, 10, 20, 30]) \\\n",
    "    .addGrid(dt_p.maxBins, [10, 20, 40, 80, 100]) \\\n",
    "    .build()\n",
    "dt_crossval_p = CrossValidator(estimator=dt_p,\n",
    "                          estimatorParamMaps=paramGrid_p,\n",
    "                          evaluator=MulticlassClassificationEvaluator(),\n",
    "                          numFolds=3)"
   ]
  },
  {
   "cell_type": "code",
   "execution_count": 99,
   "metadata": {},
   "outputs": [],
   "source": [
    "dt_start_p = time()\n",
    "dt_cvModel_p = dt_crossval_p.fit(train)\n",
    "dt_end_p = time()"
   ]
  },
  {
   "cell_type": "code",
   "execution_count": 100,
   "metadata": {},
   "outputs": [
    {
     "name": "stdout",
     "output_type": "stream",
     "text": [
      "dt_cvModel_p training duration: 4414.479683160782 s\n"
     ]
    }
   ],
   "source": [
    "print('dt_cvModel_p training duration: {} s'.format(dt_end_p - dt_start_p))"
   ]
  },
  {
   "cell_type": "code",
   "execution_count": 101,
   "metadata": {},
   "outputs": [
    {
     "name": "stdout",
     "output_type": "stream",
     "text": [
      "+-----+----------+\n",
      "|label|prediction|\n",
      "+-----+----------+\n",
      "|    1|       1.0|\n",
      "|    1|       0.0|\n",
      "|    1|       1.0|\n",
      "|    1|       0.0|\n",
      "|    0|       1.0|\n",
      "|    1|       0.0|\n",
      "|    0|       0.0|\n",
      "|    0|       0.0|\n",
      "|    1|       1.0|\n",
      "|    0|       0.0|\n",
      "|    0|       0.0|\n",
      "|    0|       0.0|\n",
      "|    0|       0.0|\n",
      "|    0|       0.0|\n",
      "|    0|       0.0|\n",
      "|    0|       0.0|\n",
      "|    1|       0.0|\n",
      "|    1|       0.0|\n",
      "|    0|       0.0|\n",
      "|    1|       1.0|\n",
      "+-----+----------+\n",
      "only showing top 20 rows\n",
      "\n"
     ]
    }
   ],
   "source": [
    "dt_results_p = dt_cvModel_p.transform(test)\n",
    "dt_results_p.select('label','prediction').show()"
   ]
  },
  {
   "cell_type": "code",
   "execution_count": 102,
   "metadata": {},
   "outputs": [
    {
     "name": "stdout",
     "output_type": "stream",
     "text": [
      "dt_precision_p: 0.5714285714285714 \n",
      "dt_recall_p: 0.14285714285714285 \n",
      "dt_f1_p: 0.2285714285714286 \n"
     ]
    }
   ],
   "source": [
    "dt_true_positive_p = dt_results_p.filter(\"label = 1 and prediction = 1\").count()\n",
    "dt_false_positive_p = dt_results_p.filter(\"label = 0 and prediction = 1\").count()\n",
    "dt_false_negative_p = dt_results_p.filter(\"label = 1 and prediction = 0\").count()\n",
    "dt_precision_p = dt_true_positive_p / (dt_true_positive_p + dt_false_positive_p) \n",
    "dt_recall_p = dt_true_positive_p / (dt_true_positive_p + dt_false_negative_p)\n",
    "dt_f1_p = 2 * dt_precision_p * dt_recall_p / (dt_precision_p + dt_recall_p)\n",
    "print('dt_precision_p: {} '.format(dt_precision_p))\n",
    "print('dt_recall_p: {} '.format(dt_recall_p))\n",
    "print('dt_f1_p: {} '.format(dt_f1_p))"
   ]
  },
  {
   "cell_type": "markdown",
   "metadata": {},
   "source": [
    "#### Random Forest"
   ]
  },
  {
   "cell_type": "code",
   "execution_count": 103,
   "metadata": {},
   "outputs": [],
   "source": [
    "rf_p = RandomForestClassifier()\n",
    "paramGrid_p = ParamGridBuilder() \\\n",
    "    .addGrid(rf_p.numTrees, [int(x) for x in np.linspace(start = 10, stop = 50, num = 3)]) \\\n",
    "    .addGrid(rf_p.maxDepth, [int(x) for x in np.linspace(start = 5, stop = 25, num = 3)]) \\\n",
    "    .build()\n",
    "rf_crossval_p = CrossValidator(estimator=rf_p,\n",
    "                          estimatorParamMaps=paramGrid_p,\n",
    "                          evaluator=MulticlassClassificationEvaluator(),\n",
    "                          numFolds=3)"
   ]
  },
  {
   "cell_type": "code",
   "execution_count": 104,
   "metadata": {},
   "outputs": [],
   "source": [
    "rf_start_p = time()\n",
    "rf_cvModel_p = rf_crossval_p.fit(train)\n",
    "rf_end_p = time()"
   ]
  },
  {
   "cell_type": "code",
   "execution_count": 105,
   "metadata": {},
   "outputs": [
    {
     "name": "stdout",
     "output_type": "stream",
     "text": [
      "rf_cvModel_p training duration: 3656.13383102417 s\n"
     ]
    }
   ],
   "source": [
    "print('rf_cvModel_p training duration: {} s'.format(rf_end_p - rf_start_p))"
   ]
  },
  {
   "cell_type": "code",
   "execution_count": 106,
   "metadata": {},
   "outputs": [
    {
     "name": "stdout",
     "output_type": "stream",
     "text": [
      "+-----+----------+\n",
      "|label|prediction|\n",
      "+-----+----------+\n",
      "|    1|       1.0|\n",
      "|    1|       0.0|\n",
      "|    1|       1.0|\n",
      "|    1|       0.0|\n",
      "|    0|       1.0|\n",
      "|    1|       0.0|\n",
      "|    0|       0.0|\n",
      "|    0|       0.0|\n",
      "|    1|       1.0|\n",
      "|    0|       0.0|\n",
      "|    0|       0.0|\n",
      "|    0|       0.0|\n",
      "|    0|       0.0|\n",
      "|    0|       0.0|\n",
      "|    0|       0.0|\n",
      "|    0|       0.0|\n",
      "|    1|       0.0|\n",
      "|    1|       0.0|\n",
      "|    0|       0.0|\n",
      "|    1|       0.0|\n",
      "+-----+----------+\n",
      "only showing top 20 rows\n",
      "\n"
     ]
    }
   ],
   "source": [
    "rf_results_p = rf_cvModel_p.transform(test)\n",
    "rf_results_p.select('label','prediction').show()"
   ]
  },
  {
   "cell_type": "code",
   "execution_count": 107,
   "metadata": {},
   "outputs": [
    {
     "name": "stdout",
     "output_type": "stream",
     "text": [
      "rf_precision_p: 0.42857142857142855 \n",
      "rf_recall_p: 0.10714285714285714 \n",
      "rf_f1_p: 0.17142857142857143 \n"
     ]
    }
   ],
   "source": [
    "rf_true_positive_p = rf_results_p.filter(\"label = 1 and prediction = 1\").count()\n",
    "rf_false_positive_p = rf_results_p.filter(\"label = 0 and prediction = 1\").count()\n",
    "rf_false_negative_p = rf_results_p.filter(\"label = 1 and prediction = 0\").count()\n",
    "rf_precision_p = rf_true_positive_p / (rf_true_positive_p + rf_false_positive_p) \n",
    "rf_recall_p = rf_true_positive_p / (rf_true_positive_p + rf_false_negative_p)\n",
    "rf_f1_p = 2 * rf_precision_p * rf_recall_p / (rf_precision_p + rf_recall_p)\n",
    "print('rf_precision_p: {} '.format(rf_precision_p))\n",
    "print('rf_recall_p: {} '.format(rf_recall_p))\n",
    "print('rf_f1_p: {} '.format(rf_f1_p))"
   ]
  },
  {
   "cell_type": "markdown",
   "metadata": {},
   "source": [
    "## Observations / Evaluation"
   ]
  },
  {
   "cell_type": "markdown",
   "metadata": {},
   "source": [
    "### Baseline\n",
    "|          Model         | Duration | Precision | Recall | F1 |\n",
    "|:----------------------:|----------|:----------------:|:-------------:|-----------|\n",
    "|   Logistic Regression  | 1680.36s  | 0.26             | 0.18          | 0.21      |\n",
    "| Gradient Boosted Trees | 1819.25s  | 0.31             | 0.14          | 0.20      |\n",
    "|      Decision Tree     | 1471.55s  | 0.31             | 0.18          | 0.23      |\n",
    "| Random Forest          | 1527.06s  | 0.67             | 0.21          | 0.31      |"
   ]
  },
  {
   "cell_type": "markdown",
   "metadata": {},
   "source": [
    "### With Parameter Tuning\n",
    "|          Model         | Duration | Precision | Recall | F1 |\n",
    "|:----------------------:|----------|:----------------:|:-------------:|-----------|\n",
    "|   Logistic Regression  | 1848.46s  | 0.26             | 0.18          | 0.21      |\n",
    "| Gradient Boosted Trees | 7189.07s | 0.44              | 0.14          | 0.22      |\n",
    "|      Decision Tree     | 4414.48s  | 0.57             | 0.14          | 0.23      |\n",
    "| Random Forest          | 3656.13s | 0.43             | 0.11          | 0.17      |"
   ]
  },
  {
   "cell_type": "markdown",
   "metadata": {},
   "source": [
    "### Observations\n",
    "* **Random Forest** was the best performing algorithm, with the better overall evaluation (before parameter tuning)\n",
    "* The precision, recall and f1 calculations were based on only a subset (medium size) of the large 12GB dataset. They may differ for the large dataset\n",
    "* A significant constraint with the medium dataset is the amount of data available, with only ~22% of the data being churned events. A risk with this is that the data may not get split reliably and could result in unreliable and inconsistent training and test data. For e.g. the training data may consist of very little churned event which could give the models a difficult time in predicting churned events\n",
    "* The selected features seem appropriate but there is still definitely room for improvement\n",
    "* With parameter tuning, the models take a much longer time to run and do not yield significantly better results which could indicate that more work is required with the features"
   ]
  },
  {
   "cell_type": "markdown",
   "metadata": {},
   "source": [
    "## Summary / Conclusion\n",
    "> *As a next step, more feature engineering can be done, as well as training with the full dataset and work towards having a good split of training and testing data. Once a good evaluation / score for the models can be obtained from the baseline models, then parameter tuning can be done for further improvements<br /><br />\n",
    "> Overall, Spark is a good platform to use for analyzing churn data. Additionally, following the CRIPS-DM process model helps with any data science / analysis tasks*"
   ]
  }
 ],
 "metadata": {
  "kernelspec": {
   "display_name": "Python 3",
   "language": "python",
   "name": "python3"
  },
  "language_info": {
   "codemirror_mode": {
    "name": "ipython",
    "version": 3
   },
   "file_extension": ".py",
   "mimetype": "text/x-python",
   "name": "python",
   "nbconvert_exporter": "python",
   "pygments_lexer": "ipython3",
   "version": "3.7.4"
  }
 },
 "nbformat": 4,
 "nbformat_minor": 2
}
